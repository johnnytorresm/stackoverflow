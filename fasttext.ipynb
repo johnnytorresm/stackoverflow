{
  "nbformat": 4,
  "nbformat_minor": 0,
  "metadata": {
    "colab": {
      "name": "fasttext.ipynb",
      "provenance": [],
      "collapsed_sections": [],
      "mount_file_id": "18eOn7_99ojqKeVbC0KuwAqVBl8uV6xeN",
      "authorship_tag": "ABX9TyMbq7M4S1HL4ELAUT5moTXa",
      "include_colab_link": true
    },
    "kernelspec": {
      "name": "python3",
      "display_name": "Python 3"
    },
    "language_info": {
      "name": "python"
    }
  },
  "cells": [
    {
      "cell_type": "markdown",
      "metadata": {
        "id": "view-in-github",
        "colab_type": "text"
      },
      "source": [
        "<a href=\"https://colab.research.google.com/github/johnnytorresm/stackoverflow/blob/main/fasttext.ipynb\" target=\"_parent\"><img src=\"https://colab.research.google.com/assets/colab-badge.svg\" alt=\"Open In Colab\"/></a>"
      ]
    },
    {
      "cell_type": "code",
      "metadata": {
        "colab": {
          "base_uri": "https://localhost:8080/"
        },
        "id": "FsuyLkZ4DbjI",
        "outputId": "2cd92ee3-1998-4223-9517-fe32af5258d4"
      },
      "source": [
        "# Installing FastText\n",
        "\n",
        "# Cloning fastText from GitHub\n",
        "! git clone https://github.com/facebookresearch/fastText.git\n",
        "\n",
        "# import os library\n",
        "import os\n",
        " \n",
        "# change the current directory to specified directory\n",
        "os.chdir(r\"./fastText\")\n",
        " \n",
        "print(\"Directory changed\")"
      ],
      "execution_count": 9,
      "outputs": [
        {
          "output_type": "stream",
          "name": "stdout",
          "text": [
            "Cloning into 'fastText'...\n",
            "remote: Enumerating objects: 3854, done.\u001b[K\n",
            "remote: Total 3854 (delta 0), reused 0 (delta 0), pack-reused 3854\u001b[K\n",
            "Receiving objects: 100% (3854/3854), 8.22 MiB | 34.52 MiB/s, done.\n",
            "Resolving deltas: 100% (2417/2417), done.\n"
          ]
        }
      ]
    },
    {
      "cell_type": "code",
      "metadata": {
        "colab": {
          "base_uri": "https://localhost:8080/"
        },
        "id": "A_u4k1jsId6Q",
        "outputId": "83e1db24-2bde-44b4-9aa6-02b8ff168745"
      },
      "source": [
        "! ls -l"
      ],
      "execution_count": 84,
      "outputs": [
        {
          "output_type": "stream",
          "name": "stdout",
          "text": [
            "total 28476\n",
            "drwxr-xr-x 2 root root     4096 Sep 25 18:01 alignment\n",
            "-rw-r--r-- 1 root root    80592 Sep 25 21:10 args.o\n",
            "-rw-r--r-- 1 root root   104976 Sep 25 21:10 autotune.o\n",
            "drwxr-xr-x 5 root root     4096 Sep 25 18:38 build\n",
            "-rwxr-xr-x 1 root root     1428 Sep 25 18:01 classification-example.sh\n",
            "-rwxr-xr-x 1 root root     3154 Sep 25 18:01 classification-results.sh\n",
            "-rw-r--r-- 1 root root     2214 Sep 25 18:01 CMakeLists.txt\n",
            "-rw-r--r-- 1 root root     3356 Sep 25 18:01 CODE_OF_CONDUCT.md\n",
            "-rw-r--r-- 1 root root     2061 Sep 25 18:01 CONTRIBUTING.md\n",
            "-rw-r--r-- 1 root root  1859871 Sep 25 21:55 corpus10k.bin\n",
            "-rw-r--r-- 1 root root 12393293 Sep 25 18:42 corpus10k.csv\n",
            "-rw-r--r-- 1 root root        0 Sep 25 21:55 corpus10k.result\n",
            "-rw-r--r-- 1 root root   700856 Sep 25 21:34 corpus10k.test\n",
            "-rw-r--r-- 1 root root  6300834 Sep 25 21:34 corpus10k.train\n",
            "-rw-r--r-- 1 root root  3033081 Sep 25 21:55 corpus10k.vec\n",
            "drwxr-xr-x 2 root root     4096 Sep 25 18:01 crawl\n",
            "drwxr-xr-x 3 root root     4096 Sep 25 21:10 data\n",
            "-rw-r--r-- 1 root root    33536 Sep 25 21:10 densematrix.o\n",
            "-rw-r--r-- 1 root root    96264 Sep 25 21:10 dictionary.o\n",
            "drwxr-xr-x 2 root root     4096 Sep 25 18:38 dist\n",
            "drwxr-xr-x 2 root root     4096 Sep 25 18:01 docs\n",
            "-rwxr-xr-x 1 root root     1287 Sep 25 18:01 download_model.py\n",
            "-rw-r--r-- 1 root root     2102 Sep 25 18:01 eval.py\n",
            "-rwxr-xr-x 1 root root   458120 Sep 25 21:10 fasttext\n",
            "-rw-r--r-- 1 root root   205888 Sep 25 21:10 fasttext.o\n",
            "-rw-r--r-- 1 root root      338 Sep 25 18:01 fasttext.pc.in\n",
            "-rwxr-xr-x 1 root root     3310 Sep 25 18:01 get-wikimedia.sh\n",
            "-rw-r--r-- 1 root root       92 Sep 25 22:18 labels.csv\n",
            "-rw-r--r-- 1 root root     1080 Sep 25 18:01 LICENSE\n",
            "-rw-r--r-- 1 root root    62360 Sep 25 21:10 loss.o\n",
            "-rw-r--r-- 1 root root     4217 Sep 25 18:01 Makefile\n",
            "-rw-r--r-- 1 root root       95 Sep 25 18:01 MANIFEST.in\n",
            "-rw-r--r-- 1 root root     3136 Sep 25 21:10 matrix.o\n",
            "-rw-r--r-- 1 root root    37120 Sep 25 21:10 meter.o\n",
            "-rw-r--r-- 1 root root     7376 Sep 25 21:10 model.o\n",
            "-rw-r--r-- 1 root root     1090 Sep 25 18:42 other-stop-words.txt\n",
            "-rw-r--r-- 1 root root    35208 Sep 25 21:10 productquantizer.o\n",
            "drwxr-xr-x 5 root root     4096 Sep 25 18:01 python\n",
            "-rwxr-xr-x 1 root root     1576 Sep 25 18:01 quantization-example.sh\n",
            "-rw-r--r-- 1 root root    16000 Sep 25 21:10 quantmatrix.o\n",
            "-rw-r--r-- 1 root root      134 Sep 25 22:18 question.txt\n",
            "-rw-r--r-- 1 root root    13612 Sep 25 18:01 README.md\n",
            "-rwxr-xr-x 1 root root     2853 Sep 25 18:01 reduce_model.py\n",
            "drwxr-xr-x 2 root root     4096 Sep 25 21:11 result\n",
            "-rw-r--r-- 1 root root     1820 Sep 25 18:01 runtests.py\n",
            "drwxr-xr-x 4 root root     4096 Sep 25 18:01 scripts\n",
            "-rw-r--r-- 1 root root       40 Sep 25 18:01 setup.cfg\n",
            "-rw-r--r-- 1 root root     6451 Sep 25 18:01 setup.py\n",
            "drwxr-xr-x 2 root root     4096 Sep 25 18:01 src\n",
            "-rw-r--r-- 1 root root   700856 Sep 25 20:32 test-corpus10k.txt\n",
            "drwxr-xr-x 2 root root     4096 Sep 25 18:01 tests\n",
            "drwxr-xr-x 2 root root     4096 Sep 25 18:37 tmp\n",
            "-rw-r--r-- 1 root root  2799989 Sep 25 20:32 train-corpus10k.txt\n",
            "-rw-r--r-- 1 root root     3800 Sep 25 21:10 utils.o\n",
            "-rw-r--r-- 1 root root     9504 Sep 25 21:10 vector.o\n",
            "drwxr-xr-x 3 root root     4096 Sep 25 18:01 webassembly\n",
            "drwxr-xr-x 6 root root     4096 Sep 25 18:01 website\n",
            "-rw-r--r-- 1 root root     1995 Sep 25 18:01 wikifil.pl\n",
            "-rwxr-xr-x 1 root root     1179 Sep 25 18:01 word-vector-example.sh\n"
          ]
        }
      ]
    },
    {
      "cell_type": "code",
      "metadata": {
        "colab": {
          "base_uri": "https://localhost:8080/"
        },
        "id": "N-PuWMPZX4OC",
        "outputId": "b78160b5-acc5-4c02-bab4-482a72b5ff52"
      },
      "source": [
        "#-----------------------------\n",
        "# Importing libraries\n",
        "#-----------------------------\n",
        "import numpy as np \n",
        "import pandas as pd\n",
        "import matplotlib.pyplot as plt\n",
        "import re\n",
        "import datetime\n",
        "import glob\n",
        "import string \n",
        "import os\n",
        "import io\n",
        "import subprocess\n",
        "from scipy import sparse\n",
        "import csv\n",
        "import codecs\n",
        "\n",
        "import nltk\n",
        "nltk.download(\"stopwords\")\n",
        "nltk.download(\"punkt\")\n",
        "nltk.download(\"wordnet\")\n",
        "\n",
        "from datetime import timedelta\n",
        "from sklearn.feature_extraction.text import TfidfTransformer  \n",
        "from sklearn.feature_extraction.text import CountVectorizer\n",
        "from sklearn.feature_extraction.text import TfidfVectorizer\n",
        "\n",
        "from sklearn.preprocessing import MultiLabelBinarizer\n",
        "\n",
        "from sklearn.linear_model import SGDClassifier\n",
        "from sklearn.linear_model import LogisticRegression\n",
        "from sklearn.linear_model import LogisticRegressionCV\n",
        "\n",
        "from sklearn.svm import LinearSVC\n",
        "from sklearn.svm import SVC\n",
        "\n",
        "from sklearn.naive_bayes import MultinomialNB\n",
        "from sklearn.naive_bayes import GaussianNB\n",
        "\n",
        "from sklearn.ensemble import RandomForestClassifier\n",
        "from sklearn.neighbors import KNeighborsClassifier\n",
        "from sklearn.multioutput import MultiOutputClassifier\n",
        "\n",
        "from sklearn.model_selection import GridSearchCV\n",
        "from sklearn.model_selection import RandomizedSearchCV\n",
        "\n",
        "import fastText as ft\n",
        "\n",
        "from collections import Counter\n",
        "\n",
        "from nltk.corpus import stopwords\n",
        "from nltk.tokenize import word_tokenize\n",
        "from nltk.stem import WordNetLemmatizer \n",
        "from sklearn.model_selection import train_test_split\n",
        "\n",
        "import sklearn.metrics as metrics\n",
        "\n",
        "from sklearn.metrics import precision_score\n",
        "from sklearn.metrics import recall_score\n",
        "from sklearn.metrics import f1_score\n",
        "from sklearn.metrics import multilabel_confusion_matrix, ConfusionMatrixDisplay\n",
        "\n",
        "from ipywidgets import *\n",
        "from tkinter import Tk, filedialog\n",
        "from IPython.display import clear_output, display\n",
        "\n",
        "import ast\n",
        "from collections import Counter\n",
        "\n",
        "%matplotlib inline\n",
        "\n",
        "import warnings\n",
        "warnings.filterwarnings(\"ignore\")\n",
        "\n",
        "print('\\nLibraries have been imported')"
      ],
      "execution_count": 33,
      "outputs": [
        {
          "output_type": "stream",
          "name": "stdout",
          "text": [
            "[nltk_data] Downloading package stopwords to /root/nltk_data...\n",
            "[nltk_data]   Package stopwords is already up-to-date!\n",
            "[nltk_data] Downloading package punkt to /root/nltk_data...\n",
            "[nltk_data]   Package punkt is already up-to-date!\n",
            "[nltk_data] Downloading package wordnet to /root/nltk_data...\n",
            "[nltk_data]   Package wordnet is already up-to-date!\n",
            "\n",
            "Libraries have been imported\n"
          ]
        }
      ]
    },
    {
      "cell_type": "code",
      "metadata": {
        "colab": {
          "base_uri": "https://localhost:8080/"
        },
        "id": "LlheV1lFY1ig",
        "outputId": "1c9edc6d-3072-4030-ce25-06105ba94c1b"
      },
      "source": [
        "#--------------------\n",
        "# Global Variables\n",
        "#--------------------\n",
        "sw  = set(stopwords.words())\n",
        "\n",
        "# Exhaustive list of English prepositions to be added to stop words\n",
        "preps = pd.read_csv('other-stop-words.txt', header=None, names=['other-stop-words'])\n",
        "preps_set = set(preps['other-stop-words'].tolist())\n",
        "sw |= preps_set\n",
        "\n",
        "# Init the Wordnet Lemmatizer\n",
        "lemmatizer = WordNetLemmatizer()\n",
        "\n",
        "print('Global Variables have been defined')\n"
      ],
      "execution_count": 34,
      "outputs": [
        {
          "output_type": "stream",
          "name": "stdout",
          "text": [
            "Global Variables have been defined\n"
          ]
        }
      ]
    },
    {
      "cell_type": "code",
      "metadata": {
        "colab": {
          "base_uri": "https://localhost:8080/"
        },
        "id": "quzsoO0pY_vG",
        "outputId": "dbe6c1c5-fbcc-401b-d946-1e301079a7e1"
      },
      "source": [
        "#-----------------------------------------\n",
        "# Function definitions\n",
        "#-----------------------------------------\n",
        "\n",
        "#----------------------------------------------------\n",
        "# clean_txt: Cleans a string, and then lemmatize it.\n",
        "#----------------------------------------------------\n",
        "def clean_txt(txt): \n",
        "    # txt: string to clean\n",
        "    \n",
        "    global sw, lemmatizer                # sw = English stop words; lemmatizer from WordNet\n",
        "\n",
        "    # 1. Lowercase \n",
        "    txt = txt.lower()\n",
        "\n",
        "    # 2. Strip HTML code\n",
        "    txt = re.sub('<[^<]+?>', ' ', txt)\n",
        "\n",
        "    # 3. Strip punctuation signs\n",
        "    txt = re.sub('[^\\w\\s]', ' ', txt)\n",
        "    txt = re.sub('\\*', ' ', txt)\n",
        "\n",
        "    # 4. remove stop words\n",
        "    txt_set = set(nltk.word_tokenize(txt))\n",
        "    txt_lst = [w for w in txt_set if (not w in sw)]\n",
        "    txt_set = set(txt_lst)\n",
        "    txt_lst = list(txt_set)\n",
        "    \n",
        "    # 5. Lemmatisation\n",
        "    txt_lst = [lemmatizer.lemmatize(w, pos='v') for w in txt_lst]\n",
        "    txt = ' '.join([lemmatizer.lemmatize(w, pos='n') for w in txt_lst])\n",
        "    \n",
        "    return txt\n",
        "\n",
        "#-----------------------------------------\n",
        "# display_topics after LDA\n",
        "#-----------------------------------------\n",
        "def display_topics(model, feature_names, no_top_words):\n",
        "    topics = []\n",
        "    for topic_idx, topic in enumerate(model.components_):\n",
        "        print(\"Topic {}:\".format(topic_idx))\n",
        "        topic_list = \" \".join([feature_names[i] for i in topic.argsort()[:-no_top_words-1:-1]])\n",
        "        print(topic_list)\n",
        "        topics.append(topic_list)\n",
        "    return topics\n",
        "    \n",
        "#-----------------------------------------\n",
        "# Print a classifier's scores\n",
        "#-----------------------------------------\n",
        "def print_score(y_true, y_pred, clf):\n",
        "    print(\"Classifier: \", clf.__class__.__name__)\n",
        "    print(\"Precision score : {}\".format(precision_score(y_true, y_pred, average='weighted')))\n",
        "    print(\"Recall score : {}\".format(recall_score(y_true, y_pred, average='weighted')))\n",
        "    print(\"F1 score : {}\".format(f1_score(y_true, y_pred, average='weighted')))\n",
        "\n",
        "#-----------------------------------------\n",
        "# Print fasttext's scores\n",
        "#-----------------------------------------\n",
        "def ft_results(N, p, r):\n",
        "    print(\"N\\t\" + str(N))\n",
        "    f1 = 2 * ( p * r ) / ( p + r)   # calculate f1 score\n",
        "    print(\"P@{}\\t{:.4f}\".format(1, p))\n",
        "    print(\"R@{}\\t{:.4f}\".format(1, r))\n",
        "    print(\"F1@{}\\t{:.4f}\".format(1, f1))\n",
        "    \n",
        "#-----------------------------------------\n",
        "# Receives a list of tags and returns\n",
        "# a list of Labels in fasttext format\n",
        "#-----------------------------------------\n",
        "def labels(Tags):\n",
        "    y_labels = ' '\n",
        "    for t in Tags:\n",
        "        y_labels += '__label__'+ t + ' '\n",
        "    \n",
        "    return y_labels\n",
        "\n",
        "#-----------------------------------------\n",
        "# most frequent tags in the corpus\n",
        "#-----------------------------------------\n",
        "def most_used_tags(tags, top_tags):\n",
        "    final_tags = []\n",
        "    for tag in tags:\n",
        "        if tag in top_tags['Tags'].values:\n",
        "            final_tags.append(tag)\n",
        "    return final_tags\n",
        "\n",
        "#-----------------------------------------\n",
        "# Select file from a directory\n",
        "#-----------------------------------------\n",
        "def select_files(b):\n",
        "    clear_output()\n",
        "    root = Tk()\n",
        "    root.withdraw() # Hide the main window.\n",
        "    root.call('wm', 'attributes', '.', '-topmost', True) # Raise the root to the top of all windows.\n",
        "    b.files = filedialog.askopenfilename(multiple=True) # List of selected files will be set button's file attribute.\n",
        "    print(b.files) # Print the list of files selected.\n",
        "    \n",
        "#-----------------------------------------\n",
        "# Remove \"__label__\" from FastText Labels\n",
        "#-----------------------------------------\n",
        "def remove_label(l,prefix)-> str:\n",
        "    if l.startswith(prefix):\n",
        "        return l[len(prefix):]\n",
        "    else:\n",
        "        return l[:]\n",
        "\n",
        "#---------------------------------------------\n",
        "# Sorts a dictionary by value. Returns a list.\n",
        "#---------------------------------------------\n",
        "def sort_tags(x):\n",
        "    if len(x)>0:\n",
        "        s = sorted(x.items(), key = lambda y:(y[1], y[0]), reverse = True)\n",
        "    else:\n",
        "        s = []\n",
        "    return s\n",
        "\n",
        "#---------------------------------------------\n",
        "# Top 5 values \n",
        "#---------------------------------------------\n",
        "def top_tags(x):\n",
        "    s = []\n",
        "    i = 0\n",
        "    if len(x)>0:\n",
        "        while ((i<len(x)) and (i<5)):\n",
        "            s = s + [x[i][0]]\n",
        "            i += 1\n",
        "    else:\n",
        "        s = []\n",
        "    \n",
        "    return s\n",
        "\n",
        "print('Functions have been defined')\n"
      ],
      "execution_count": 35,
      "outputs": [
        {
          "output_type": "stream",
          "name": "stdout",
          "text": [
            "Functions have been defined\n"
          ]
        }
      ]
    },
    {
      "cell_type": "code",
      "metadata": {
        "colab": {
          "base_uri": "https://localhost:8080/",
          "height": 317
        },
        "id": "AVWQnxNObOnk",
        "outputId": "f143e8ee-f32c-4317-bf08-d5efd97939ac"
      },
      "source": [
        "#--------------------------------\n",
        "# Reading data\n",
        "#--------------------------------\n",
        "\n",
        "file2open = \"corpus10k.csv\"\n",
        "\n",
        "print('Reading...')\n",
        "posts = pd.read_csv(file2open, usecols=['Id', 'Tags', 'Text'])\n",
        "\n",
        "# Number of records read\n",
        "display(posts.shape)\n",
        "display(posts.head())\n",
        "        \n",
        "# counting nulls per column\n",
        "display(posts.isnull().sum())\n"
      ],
      "execution_count": 36,
      "outputs": [
        {
          "output_type": "stream",
          "name": "stdout",
          "text": [
            "Reading...\n"
          ]
        },
        {
          "output_type": "display_data",
          "data": {
            "text/plain": [
              "(11146, 3)"
            ]
          },
          "metadata": {}
        },
        {
          "output_type": "display_data",
          "data": {
            "text/html": [
              "<div>\n",
              "<style scoped>\n",
              "    .dataframe tbody tr th:only-of-type {\n",
              "        vertical-align: middle;\n",
              "    }\n",
              "\n",
              "    .dataframe tbody tr th {\n",
              "        vertical-align: top;\n",
              "    }\n",
              "\n",
              "    .dataframe thead th {\n",
              "        text-align: right;\n",
              "    }\n",
              "</style>\n",
              "<table border=\"1\" class=\"dataframe\">\n",
              "  <thead>\n",
              "    <tr style=\"text-align: right;\">\n",
              "      <th></th>\n",
              "      <th>Id</th>\n",
              "      <th>Tags</th>\n",
              "      <th>Text</th>\n",
              "    </tr>\n",
              "  </thead>\n",
              "  <tbody>\n",
              "    <tr>\n",
              "      <th>0</th>\n",
              "      <td>4</td>\n",
              "      <td>['c#', 'floating-point', 'type-conversion', 'd...</td>\n",
              "      <td>change error vb use work 5000 track try contro...</td>\n",
              "    </tr>\n",
              "    <tr>\n",
              "      <th>1</th>\n",
              "      <td>6</td>\n",
              "      <td>['html', 'css', 'internet-explorer-7']</td>\n",
              "      <td>collapse miss explorer 0 children specificatio...</td>\n",
              "    </tr>\n",
              "    <tr>\n",
              "      <th>2</th>\n",
              "      <td>9</td>\n",
              "      <td>['c#', '.net', 'datetime']</td>\n",
              "      <td>someone datetime represent base age calculate ...</td>\n",
              "    </tr>\n",
              "    <tr>\n",
              "      <th>3</th>\n",
              "      <td>11</td>\n",
              "      <td>['c#', 'datetime', 'time', 'datediff', 'relati...</td>\n",
              "      <td>display datetime days 2 time month 3 specific ...</td>\n",
              "    </tr>\n",
              "    <tr>\n",
              "      <th>4</th>\n",
              "      <td>13</td>\n",
              "      <td>['html', 'browser', 'timezone', 'user-agent', ...</td>\n",
              "      <td>timezone http part agent determine user string...</td>\n",
              "    </tr>\n",
              "  </tbody>\n",
              "</table>\n",
              "</div>"
            ],
            "text/plain": [
              "   Id  ...                                               Text\n",
              "0   4  ...  change error vb use work 5000 track try contro...\n",
              "1   6  ...  collapse miss explorer 0 children specificatio...\n",
              "2   9  ...  someone datetime represent base age calculate ...\n",
              "3  11  ...  display datetime days 2 time month 3 specific ...\n",
              "4  13  ...  timezone http part agent determine user string...\n",
              "\n",
              "[5 rows x 3 columns]"
            ]
          },
          "metadata": {}
        },
        {
          "output_type": "display_data",
          "data": {
            "text/plain": [
              "Id      0\n",
              "Tags    0\n",
              "Text    0\n",
              "dtype: int64"
            ]
          },
          "metadata": {}
        }
      ]
    },
    {
      "cell_type": "code",
      "metadata": {
        "colab": {
          "base_uri": "https://localhost:8080/"
        },
        "id": "EY8fgZ1ScY-d",
        "outputId": "6ceb62a0-6cb8-4176-c56c-8df74414656b"
      },
      "source": [
        "#----------------------------------------------------------------\n",
        "# Checking if Tags have been read as a single string or a series\n",
        "#-----------------------------------------------------------------\n",
        "if isinstance(posts['Tags'].iloc[0],str): # verifies if 'Tags' is of type \"string\"\n",
        "    display(posts['Tags'].iloc[0])\n",
        "    posts['Tags'] = posts['Tags'].apply(lambda tag: ast.literal_eval(tag))\n",
        "    display(posts['Tags'].iloc[0])\n",
        "\n",
        "print('Ready')\n"
      ],
      "execution_count": 38,
      "outputs": [
        {
          "output_type": "stream",
          "name": "stdout",
          "text": [
            "Ready\n"
          ]
        }
      ]
    },
    {
      "cell_type": "code",
      "metadata": {
        "colab": {
          "base_uri": "https://localhost:8080/"
        },
        "id": "vUf5j-KTc9Bo",
        "outputId": "9fae564f-d7e5-4ba5-cda9-ef99e1985dd7"
      },
      "source": [
        "#------------------------------------------------------\n",
        "# Flatten the \"Tags\" columns into a Series and then \n",
        "# count the number of occurrences per item, putting\n",
        "# the results into a dataframe\n",
        "#------------------------------------------------------\n",
        "tag_series = pd.Series([item for sublist in posts['Tags'] for item in sublist])\n",
        "tag_df = tag_series.groupby(tag_series).size().rename_axis('Tags').reset_index(name='Nº of occurrences')\n",
        "tag_df = tag_df.sort_values(by=['Nº of occurrences'], ascending=False)\n",
        "tag_df.head(20)\n",
        "\n",
        "# 2\n",
        "# Nº of Tags that appear more than 100 times across all messages\n",
        "\n",
        "series = tag_df['Nº of occurrences'].apply(lambda x: True if x > 10 else False)\n",
        "counting = len(series[series == True].index)\n",
        "\n",
        "print('Nº of Tags that appear more than 10 times across all messages:', counting)\n"
      ],
      "execution_count": 39,
      "outputs": [
        {
          "output_type": "stream",
          "name": "stdout",
          "text": [
            "Nº of Tags that appear more than 10 times across all messages: 454\n"
          ]
        }
      ]
    },
    {
      "cell_type": "code",
      "metadata": {
        "colab": {
          "base_uri": "https://localhost:8080/",
          "height": 872
        },
        "id": "CrsviilcdFrr",
        "outputId": "1f31b1f5-f708-4772-c938-a2ed55b7fff2"
      },
      "source": [
        "#-----------------------------------------\n",
        "# Top 100 tags\n",
        "#-----------------------------------------\n",
        "top_tags = tag_df[['Tags', 'Nº of occurrences']].head(100)\n",
        "display(top_tags)\n",
        "\n",
        "#--------------------------\n",
        "# y = list of Tags list\n",
        "#--------------------------\n",
        "posts['Tags'] = posts['Tags'].apply(lambda tags: most_used_tags(tags, top_tags))\n",
        "posts = posts.loc[posts['Tags'].str.len() > 0]\n",
        "y = posts['Tags']\n",
        "print('Ready - Nº of chosen tags', len(y))\n",
        "\n",
        "#--------------------\n",
        "# Display results\n",
        "#--------------------\n",
        "display(posts.head()), display(y)\n"
      ],
      "execution_count": 41,
      "outputs": [
        {
          "output_type": "display_data",
          "data": {
            "text/html": [
              "<div>\n",
              "<style scoped>\n",
              "    .dataframe tbody tr th:only-of-type {\n",
              "        vertical-align: middle;\n",
              "    }\n",
              "\n",
              "    .dataframe tbody tr th {\n",
              "        vertical-align: top;\n",
              "    }\n",
              "\n",
              "    .dataframe thead th {\n",
              "        text-align: right;\n",
              "    }\n",
              "</style>\n",
              "<table border=\"1\" class=\"dataframe\">\n",
              "  <thead>\n",
              "    <tr style=\"text-align: right;\">\n",
              "      <th></th>\n",
              "      <th>Tags</th>\n",
              "      <th>Nº of occurrences</th>\n",
              "    </tr>\n",
              "  </thead>\n",
              "  <tbody>\n",
              "    <tr>\n",
              "      <th>407</th>\n",
              "      <td>c#</td>\n",
              "      <td>1370</td>\n",
              "    </tr>\n",
              "    <tr>\n",
              "      <th>2</th>\n",
              "      <td>.net</td>\n",
              "      <td>1237</td>\n",
              "    </tr>\n",
              "    <tr>\n",
              "      <th>1777</th>\n",
              "      <td>java</td>\n",
              "      <td>807</td>\n",
              "    </tr>\n",
              "    <tr>\n",
              "      <th>195</th>\n",
              "      <td>asp.net</td>\n",
              "      <td>693</td>\n",
              "    </tr>\n",
              "    <tr>\n",
              "      <th>410</th>\n",
              "      <td>c++</td>\n",
              "      <td>527</td>\n",
              "    </tr>\n",
              "    <tr>\n",
              "      <th>...</th>\n",
              "      <td>...</td>\n",
              "      <td>...</td>\n",
              "    </tr>\n",
              "    <tr>\n",
              "      <th>3760</th>\n",
              "      <td>vba</td>\n",
              "      <td>50</td>\n",
              "    </tr>\n",
              "    <tr>\n",
              "      <th>839</th>\n",
              "      <td>date</td>\n",
              "      <td>49</td>\n",
              "    </tr>\n",
              "    <tr>\n",
              "      <th>1639</th>\n",
              "      <td>image</td>\n",
              "      <td>49</td>\n",
              "    </tr>\n",
              "    <tr>\n",
              "      <th>811</th>\n",
              "      <td>database-design</td>\n",
              "      <td>49</td>\n",
              "    </tr>\n",
              "    <tr>\n",
              "      <th>2456</th>\n",
              "      <td>orm</td>\n",
              "      <td>49</td>\n",
              "    </tr>\n",
              "  </tbody>\n",
              "</table>\n",
              "<p>100 rows × 2 columns</p>\n",
              "</div>"
            ],
            "text/plain": [
              "                 Tags  Nº of occurrences\n",
              "407                c#               1370\n",
              "2                .net               1237\n",
              "1777             java                807\n",
              "195           asp.net                693\n",
              "410               c++                527\n",
              "...               ...                ...\n",
              "3760              vba                 50\n",
              "839              date                 49\n",
              "1639            image                 49\n",
              "811   database-design                 49\n",
              "2456              orm                 49\n",
              "\n",
              "[100 rows x 2 columns]"
            ]
          },
          "metadata": {}
        },
        {
          "output_type": "stream",
          "name": "stdout",
          "text": [
            "Ready - Nº of chosen tags 9591\n"
          ]
        },
        {
          "output_type": "display_data",
          "data": {
            "text/html": [
              "<div>\n",
              "<style scoped>\n",
              "    .dataframe tbody tr th:only-of-type {\n",
              "        vertical-align: middle;\n",
              "    }\n",
              "\n",
              "    .dataframe tbody tr th {\n",
              "        vertical-align: top;\n",
              "    }\n",
              "\n",
              "    .dataframe thead th {\n",
              "        text-align: right;\n",
              "    }\n",
              "</style>\n",
              "<table border=\"1\" class=\"dataframe\">\n",
              "  <thead>\n",
              "    <tr style=\"text-align: right;\">\n",
              "      <th></th>\n",
              "      <th>Id</th>\n",
              "      <th>Tags</th>\n",
              "      <th>Text</th>\n",
              "    </tr>\n",
              "  </thead>\n",
              "  <tbody>\n",
              "    <tr>\n",
              "      <th>0</th>\n",
              "      <td>4</td>\n",
              "      <td>[c#]</td>\n",
              "      <td>change error vb use work 5000 track try contro...</td>\n",
              "    </tr>\n",
              "    <tr>\n",
              "      <th>1</th>\n",
              "      <td>6</td>\n",
              "      <td>[html, css]</td>\n",
              "      <td>collapse miss explorer 0 children specificatio...</td>\n",
              "    </tr>\n",
              "    <tr>\n",
              "      <th>2</th>\n",
              "      <td>9</td>\n",
              "      <td>[c#, .net]</td>\n",
              "      <td>someone datetime represent base age calculate ...</td>\n",
              "    </tr>\n",
              "    <tr>\n",
              "      <th>3</th>\n",
              "      <td>11</td>\n",
              "      <td>[c#]</td>\n",
              "      <td>display datetime days 2 time month 3 specific ...</td>\n",
              "    </tr>\n",
              "    <tr>\n",
              "      <th>4</th>\n",
              "      <td>13</td>\n",
              "      <td>[html, browser]</td>\n",
              "      <td>timezone http part agent determine user string...</td>\n",
              "    </tr>\n",
              "  </tbody>\n",
              "</table>\n",
              "</div>"
            ],
            "text/plain": [
              "   Id             Tags                                               Text\n",
              "0   4             [c#]  change error vb use work 5000 track try contro...\n",
              "1   6      [html, css]  collapse miss explorer 0 children specificatio...\n",
              "2   9       [c#, .net]  someone datetime represent base age calculate ...\n",
              "3  11             [c#]  display datetime days 2 time month 3 specific ...\n",
              "4  13  [html, browser]  timezone http part agent determine user string..."
            ]
          },
          "metadata": {}
        },
        {
          "output_type": "display_data",
          "data": {
            "text/plain": [
              "0                               [c#]\n",
              "1                        [html, css]\n",
              "2                         [c#, .net]\n",
              "3                               [c#]\n",
              "4                    [html, browser]\n",
              "                    ...             \n",
              "11139          [c++, multithreading]\n",
              "11140                       [vb.net]\n",
              "11141    [.net, asp.net, javascript]\n",
              "11142              [javascript, oop]\n",
              "11145                     [security]\n",
              "Name: Tags, Length: 9591, dtype: object"
            ]
          },
          "metadata": {}
        },
        {
          "output_type": "execute_result",
          "data": {
            "text/plain": [
              "(None, None)"
            ]
          },
          "metadata": {},
          "execution_count": 41
        }
      ]
    },
    {
      "cell_type": "code",
      "metadata": {
        "colab": {
          "base_uri": "https://localhost:8080/"
        },
        "id": "p3y17I6Xf3pi",
        "outputId": "142c698a-80ce-4616-c1c3-b30f660f2bd5"
      },
      "source": [
        "#------------------------------------\n",
        "# Apply MultiLabelBinarizer to Tags\n",
        "#------------------------------------\n",
        "mlb = MultiLabelBinarizer()\n",
        "y = mlb.fit_transform(posts['Tags'])\n",
        "y[0:10,0:10]\n"
      ],
      "execution_count": 42,
      "outputs": [
        {
          "output_type": "execute_result",
          "data": {
            "text/plain": [
              "array([[0, 0, 0, 0, 0, 0, 0, 0, 0, 0],\n",
              "       [0, 0, 0, 0, 0, 0, 0, 0, 0, 0],\n",
              "       [1, 0, 0, 0, 0, 0, 0, 0, 0, 0],\n",
              "       [0, 0, 0, 0, 0, 0, 0, 0, 0, 0],\n",
              "       [0, 0, 0, 0, 0, 0, 0, 0, 0, 0],\n",
              "       [1, 0, 0, 0, 0, 0, 0, 0, 0, 0],\n",
              "       [0, 0, 1, 0, 0, 0, 0, 0, 0, 0],\n",
              "       [0, 0, 0, 0, 0, 0, 0, 0, 0, 0],\n",
              "       [0, 0, 0, 0, 0, 1, 0, 0, 0, 0],\n",
              "       [0, 0, 0, 0, 0, 0, 0, 0, 0, 0]])"
            ]
          },
          "metadata": {},
          "execution_count": 42
        }
      ]
    },
    {
      "cell_type": "code",
      "metadata": {
        "colab": {
          "base_uri": "https://localhost:8080/"
        },
        "id": "Qcox_dKXf-6p",
        "outputId": "135aea55-1378-45ad-df7c-e78aa3097119"
      },
      "source": [
        "#------------\n",
        "# TD-IDF \n",
        "#------------\n",
        "tfidf = TfidfVectorizer(analyzer=\"word\", max_features=1000, ngram_range=(1,1))\n",
        "X = tfidf.fit_transform(posts['Text'])\n",
        "\n",
        "print('Ready')\n"
      ],
      "execution_count": 43,
      "outputs": [
        {
          "output_type": "stream",
          "name": "stdout",
          "text": [
            "Ready\n"
          ]
        }
      ]
    },
    {
      "cell_type": "code",
      "metadata": {
        "colab": {
          "base_uri": "https://localhost:8080/"
        },
        "id": "PdGC5ug7gOw5",
        "outputId": "b4e93ddd-7356-48d6-c2fe-cf3f754d8820"
      },
      "source": [
        "#------------------------------\n",
        "# Split into train and test\n",
        "#------------------------------\n",
        "X_train, X_test, y_train, y_test = train_test_split(X, y, test_size=0.2, random_state=0)\n",
        "X_train.shape,  X_test.shape,  y_train.shape, y_test.shape\n"
      ],
      "execution_count": 44,
      "outputs": [
        {
          "output_type": "execute_result",
          "data": {
            "text/plain": [
              "((7672, 1000), (1919, 1000), (7672, 100), (1919, 100))"
            ]
          },
          "metadata": {},
          "execution_count": 44
        }
      ]
    },
    {
      "cell_type": "code",
      "metadata": {
        "colab": {
          "base_uri": "https://localhost:8080/"
        },
        "id": "a6d3nN_HhenK",
        "outputId": "47c2b4f1-0106-446b-f9a3-fa557780d6a6"
      },
      "source": [
        "#----------------------------------\n",
        "# Multilabel with LinearSVC()\n",
        "#----------------------------------\n",
        "\n",
        "print('Multilabel with LinearSVC() - Begin..', datetime.datetime.now())\n",
        "\n",
        "# Create the SVM objetc\n",
        "svm = LinearSVC(random_state=42)\n",
        "\n",
        "# Make it an Multilabel classifier\n",
        "multilabel_classifier = MultiOutputClassifier(svm, n_jobs=-1)\n",
        "\n",
        "# Fit the data to the Multilabel classifier\n",
        "multilabel_classifier = multilabel_classifier.fit(X_train, y_train)\n",
        "\n",
        "# Get predictions for test data\n",
        "y_pred = multilabel_classifier.predict(X_test)\n",
        "\n",
        "print_score(y_test, y_pred, svm)\n",
        "\n",
        "print('Multilabel with LinearSVC() - End..', datetime.datetime.now())\n"
      ],
      "execution_count": 45,
      "outputs": [
        {
          "output_type": "stream",
          "name": "stdout",
          "text": [
            "Multilabel with LinearSVC() - Begin.. 2021-09-25 19:54:41.337058\n",
            "Classifier:  LinearSVC\n",
            "Precision score : 0.6461091951271151\n",
            "Recall score : 0.36437859086785607\n",
            "F1 score : 0.4434978836056442\n",
            "Multilabel with LinearSVC() - End.. 2021-09-25 19:54:44.156257\n"
          ]
        }
      ]
    },
    {
      "cell_type": "code",
      "metadata": {
        "colab": {
          "base_uri": "https://localhost:8080/"
        },
        "id": "0k6PcQ2UhqAN",
        "outputId": "a14551a7-a7ff-482f-a36e-173a0011ed18"
      },
      "source": [
        "#----------------------------------------------\n",
        "# Multilabel with MultinomialNB()\n",
        "#----------------------------------------------\n",
        "# Create the SVM objet\n",
        "svm2 = MultinomialNB()\n",
        "\n",
        "print('Multinomial NB - Begin..', datetime.datetime.now())\n",
        "\n",
        "# Make it an Multilabel classifier\n",
        "multilabel_classifier2 = MultiOutputClassifier(svm2, n_jobs=-1)\n",
        "\n",
        "# Fit the data to the Multilabel classifier\n",
        "multilabel_classifier2 = multilabel_classifier2.fit(X_train, y_train)\n",
        "\n",
        "# Get predictions for test data\n",
        "y_pred2 = multilabel_classifier2.predict(X_test)\n",
        "\n",
        "print_score(y_test, y_pred2, svm2)\n",
        "\n",
        "print('Multinomial NB - End..', datetime.datetime.now())\n"
      ],
      "execution_count": 47,
      "outputs": [
        {
          "output_type": "stream",
          "name": "stdout",
          "text": [
            "Multinomial NB - Begin.. 2021-09-25 19:56:11.993135\n",
            "Classifier:  MultinomialNB\n",
            "Precision score : 0.2010634008668481\n",
            "Recall score : 0.005745388569700635\n",
            "F1 score : 0.011079655160598062\n",
            "Multinomial NB - End.. 2021-09-25 19:56:12.820765\n"
          ]
        }
      ]
    },
    {
      "cell_type": "code",
      "metadata": {
        "colab": {
          "base_uri": "https://localhost:8080/"
        },
        "id": "m6oLNqlrh6CW",
        "outputId": "792fb3eb-9433-4dc6-beb6-36ae9cc1ae35"
      },
      "source": [
        "#---------------------------------------\n",
        "# Multilabel with SGDClassifier()\n",
        "#----------------------------------------\n",
        "\n",
        "# Create the SVM objet\n",
        "svm3 = SGDClassifier()\n",
        "\n",
        "print('Multinlabel with SGDClassifier - Begin..', datetime.datetime.now())\n",
        "\n",
        "# Make it an Multilabel classifier\n",
        "multilabel_classifier3 = MultiOutputClassifier(svm3, n_jobs=-1)\n",
        "\n",
        "# Fit the data to the Multilabel classifier\n",
        "multilabel_classifier3 = multilabel_classifier3.fit(X_train, y_train)\n",
        "\n",
        "# Get predictions for test data\n",
        "y_pred3 = multilabel_classifier3.predict(X_test)\n",
        "\n",
        "print_score(y_test, y_pred3, svm3)\n",
        "\n",
        "print('Multinlabel with SGDClassifier - End..', datetime.datetime.now())\n"
      ],
      "execution_count": 48,
      "outputs": [
        {
          "output_type": "stream",
          "name": "stdout",
          "text": [
            "Multinlabel with SGDClassifier - Begin.. 2021-09-25 19:58:08.028203\n",
            "Classifier:  SGDClassifier\n",
            "Precision score : 0.6650479977518241\n",
            "Recall score : 0.34260659207741156\n",
            "F1 score : 0.41156738064177895\n",
            "Multinlabel with SGDClassifier - End.. 2021-09-25 19:58:09.388413\n"
          ]
        }
      ]
    },
    {
      "cell_type": "code",
      "metadata": {
        "colab": {
          "base_uri": "https://localhost:8080/"
        },
        "id": "oEWR2JO8jFKC",
        "outputId": "5a98af68-c38e-42da-f3fd-ced09a096894"
      },
      "source": [
        "#-----------------------------------------------------\n",
        "# Multilabel with LogisticRegression (solver='saga')\n",
        "#-----------------------------------------------------\n",
        "\n",
        "# Create the SVM objet\n",
        "svm4 = LogisticRegression(solver='saga')\n",
        "\n",
        "print('Multilabel with LogisticRegression - Begin..', datetime.datetime.now())\n",
        "\n",
        "# Make it an Multilabel classifier\n",
        "multilabel_classifier4 = MultiOutputClassifier(svm4, n_jobs=-1)\n",
        "\n",
        "# Fit the data to the Multilabel classifier\n",
        "multilabel_classifier4 = multilabel_classifier4.fit(X_train, y_train)\n",
        "\n",
        "# Get predictions for test data\n",
        "y_pred4 = multilabel_classifier4.predict(X_test)\n",
        "print_score(y_test, y_pred4, svm4)\n",
        "\n",
        "print('Multilabel with LogisticRegression - End..', datetime.datetime.now())\n"
      ],
      "execution_count": 49,
      "outputs": [
        {
          "output_type": "stream",
          "name": "stdout",
          "text": [
            "Multilabel with LogisticRegression - Begin.. 2021-09-25 20:02:14.089220\n",
            "Classifier:  LogisticRegression\n",
            "Precision score : 0.5843260788581623\n",
            "Recall score : 0.15240399153311157\n",
            "F1 score : 0.22618241640036535\n",
            "Multilabel with LogisticRegression - End.. 2021-09-25 20:02:42.438623\n"
          ]
        }
      ]
    },
    {
      "cell_type": "code",
      "metadata": {
        "colab": {
          "base_uri": "https://localhost:8080/"
        },
        "id": "O_zZ3tXXk0go",
        "outputId": "1687141c-22d8-4dc9-93ac-ab33e9a55589"
      },
      "source": [
        "#-------------------------------------------------------\n",
        "# GridSearch for RandomForestClassifier\n",
        "#-------------------------------------------------------\n",
        "\n",
        "print('Begin... RandomForestClassifier', datetime.datetime.now())\n",
        "\n",
        "parameters = {'n_estimators'      : [100, 200],\n",
        "              'max_depth'         : [20, 30],\n",
        "              'random_state'      : [0],\n",
        "              'verbose'           : [1],\n",
        "              'max_features'      : ['auto'],\n",
        "              'criterion'         : ['gini']\n",
        "             }\n",
        "\n",
        "clf = RandomizedSearchCV(RandomForestClassifier(), parameters, cv=5, n_jobs=-1)\n",
        "clf.fit(X_train, y_train)\n",
        "\n",
        "print(clf.score(X_train, y_train))\n",
        "print(clf.best_params_)\n",
        "\n",
        "# Testing RandomForestClassifier with the best params found above\n",
        "print('Testing RandomForestClassifier with the best params found above...')\n",
        "\n",
        "rfc = RandomForestClassifier(n_estimators = clf.best_params_['n_estimators'],\n",
        "                             max_depth = clf.best_params_['max_depth'],\n",
        "                             random_state = 0,\n",
        "                             verbose = 0,\n",
        "                             max_features = 'auto',\n",
        "                             criterion = 'gini'\n",
        "                            )\n",
        "rfc.fit(X_train, y_train)\n",
        "\n",
        "y_pred6 = rfc.predict(X_test)\n",
        "print_score(y_test, y_pred6, rfc)\n",
        "\n",
        "print('End...', datetime.datetime.now())\n"
      ],
      "execution_count": 50,
      "outputs": [
        {
          "output_type": "stream",
          "name": "stdout",
          "text": [
            "Begin... RandomForestClassifier 2021-09-25 20:09:14.370810\n"
          ]
        },
        {
          "output_type": "stream",
          "name": "stderr",
          "text": [
            "[Parallel(n_jobs=1)]: Using backend SequentialBackend with 1 concurrent workers.\n",
            "[Parallel(n_jobs=1)]: Done 100 out of 100 | elapsed:   29.7s finished\n",
            "[Parallel(n_jobs=1)]: Using backend SequentialBackend with 1 concurrent workers.\n",
            "[Parallel(n_jobs=1)]: Done 100 out of 100 | elapsed:    6.3s finished\n"
          ]
        },
        {
          "output_type": "stream",
          "name": "stdout",
          "text": [
            "0.21037539103232533\n",
            "{'verbose': 1, 'random_state': 0, 'n_estimators': 100, 'max_features': 'auto', 'max_depth': 30, 'criterion': 'gini'}\n",
            "Testing RandomForestClassifier with the best params found above...\n",
            "Classifier:  RandomForestClassifier\n",
            "Precision score : 0.3674324405382363\n",
            "Recall score : 0.11339582703356517\n",
            "F1 score : 0.151070418197909\n",
            "End... 2021-09-25 20:19:32.083393\n"
          ]
        }
      ]
    },
    {
      "cell_type": "code",
      "metadata": {
        "colab": {
          "base_uri": "https://localhost:8080/",
          "height": 813
        },
        "id": "AGxOQ_-Tp7KF",
        "outputId": "ec225f9a-9c9f-4d3a-c80c-1ea1377d8950"
      },
      "source": [
        "#-------------------------------------------------------\n",
        "# Preparation of tags for fasttext \n",
        "# The string \"__label__\" is attached to each tag to create a new column named 'Labels'.\n",
        "# Columns 'Labels' and 'Text' are then written to an external txt file for fasttext analysis (in OS mode)\n",
        "#-------------------------------------------------------\n",
        "train, test = train_test_split(posts, test_size=0.2)\n",
        "\n",
        "train['Labels'] = train['Tags'].apply(lambda x: labels(x))\n",
        "test['Labels'] = test['Tags'].apply(lambda x: labels(x))\n",
        "\n",
        "train = train.dropna()\n",
        "test = test.dropna()\n",
        "\n",
        "display(train[['Tags', 'Labels', 'Text']].head(10))\n",
        "display(test[['Tags', 'Labels', 'Text']].head(10))\n"
      ],
      "execution_count": 51,
      "outputs": [
        {
          "output_type": "display_data",
          "data": {
            "text/html": [
              "<div>\n",
              "<style scoped>\n",
              "    .dataframe tbody tr th:only-of-type {\n",
              "        vertical-align: middle;\n",
              "    }\n",
              "\n",
              "    .dataframe tbody tr th {\n",
              "        vertical-align: top;\n",
              "    }\n",
              "\n",
              "    .dataframe thead th {\n",
              "        text-align: right;\n",
              "    }\n",
              "</style>\n",
              "<table border=\"1\" class=\"dataframe\">\n",
              "  <thead>\n",
              "    <tr style=\"text-align: right;\">\n",
              "      <th></th>\n",
              "      <th>Tags</th>\n",
              "      <th>Labels</th>\n",
              "      <th>Text</th>\n",
              "    </tr>\n",
              "  </thead>\n",
              "  <tbody>\n",
              "    <tr>\n",
              "      <th>3603</th>\n",
              "      <td>[jquery, ajax, http]</td>\n",
              "      <td>__label__jquery __label__ajax __label__http</td>\n",
              "      <td>response copy copy http object sort status ret...</td>\n",
              "    </tr>\n",
              "    <tr>\n",
              "      <th>4632</th>\n",
              "      <td>[javascript, html]</td>\n",
              "      <td>__label__javascript __label__html</td>\n",
              "      <td>solution textarea length gt enter cross number...</td>\n",
              "    </tr>\n",
              "    <tr>\n",
              "      <th>11041</th>\n",
              "      <td>[windows, winapi]</td>\n",
              "      <td>__label__windows __label__winapi</td>\n",
              "      <td>create controll auto arrange place look contro...</td>\n",
              "    </tr>\n",
              "    <tr>\n",
              "      <th>4667</th>\n",
              "      <td>[database, oracle]</td>\n",
              "      <td>__label__database __label__oracle</td>\n",
              "      <td>another sid service oracle different ora need ...</td>\n",
              "    </tr>\n",
              "    <tr>\n",
              "      <th>5323</th>\n",
              "      <td>[actionscript-3]</td>\n",
              "      <td>__label__actionscript-3</td>\n",
              "      <td>ecmascript native 0 actionscript value result ...</td>\n",
              "    </tr>\n",
              "    <tr>\n",
              "      <th>1630</th>\n",
              "      <td>[visual-studio-2008, eclipse]</td>\n",
              "      <td>__label__visual-studio-2008 __label__eclipse</td>\n",
              "      <td>f11 configure info f5 need use easy keyboard m...</td>\n",
              "    </tr>\n",
              "    <tr>\n",
              "      <th>11051</th>\n",
              "      <td>[java]</td>\n",
              "      <td>__label__java</td>\n",
              "      <td>suggestions mavenproject hint object plugin ea...</td>\n",
              "    </tr>\n",
              "    <tr>\n",
              "      <th>2683</th>\n",
              "      <td>[javascript]</td>\n",
              "      <td>__label__javascript</td>\n",
              "      <td>object property undefined check javascript det...</td>\n",
              "    </tr>\n",
              "    <tr>\n",
              "      <th>8920</th>\n",
              "      <td>[jquery, ajax]</td>\n",
              "      <td>__label__jquery __label__ajax</td>\n",
              "      <td>error come parse http submit post unable make ...</td>\n",
              "    </tr>\n",
              "    <tr>\n",
              "      <th>7459</th>\n",
              "      <td>[algorithm]</td>\n",
              "      <td>__label__algorithm</td>\n",
              "      <td>content automatically text categories categori...</td>\n",
              "    </tr>\n",
              "  </tbody>\n",
              "</table>\n",
              "</div>"
            ],
            "text/plain": [
              "                                Tags  ...                                               Text\n",
              "3603            [jquery, ajax, http]  ...  response copy copy http object sort status ret...\n",
              "4632              [javascript, html]  ...  solution textarea length gt enter cross number...\n",
              "11041              [windows, winapi]  ...  create controll auto arrange place look contro...\n",
              "4667              [database, oracle]  ...  another sid service oracle different ora need ...\n",
              "5323                [actionscript-3]  ...  ecmascript native 0 actionscript value result ...\n",
              "1630   [visual-studio-2008, eclipse]  ...  f11 configure info f5 need use easy keyboard m...\n",
              "11051                         [java]  ...  suggestions mavenproject hint object plugin ea...\n",
              "2683                    [javascript]  ...  object property undefined check javascript det...\n",
              "8920                  [jquery, ajax]  ...  error come parse http submit post unable make ...\n",
              "7459                     [algorithm]  ...  content automatically text categories categori...\n",
              "\n",
              "[10 rows x 3 columns]"
            ]
          },
          "metadata": {}
        },
        {
          "output_type": "display_data",
          "data": {
            "text/html": [
              "<div>\n",
              "<style scoped>\n",
              "    .dataframe tbody tr th:only-of-type {\n",
              "        vertical-align: middle;\n",
              "    }\n",
              "\n",
              "    .dataframe tbody tr th {\n",
              "        vertical-align: top;\n",
              "    }\n",
              "\n",
              "    .dataframe thead th {\n",
              "        text-align: right;\n",
              "    }\n",
              "</style>\n",
              "<table border=\"1\" class=\"dataframe\">\n",
              "  <thead>\n",
              "    <tr style=\"text-align: right;\">\n",
              "      <th></th>\n",
              "      <th>Tags</th>\n",
              "      <th>Labels</th>\n",
              "      <th>Text</th>\n",
              "    </tr>\n",
              "  </thead>\n",
              "  <tbody>\n",
              "    <tr>\n",
              "      <th>9230</th>\n",
              "      <td>[sql, database]</td>\n",
              "      <td>__label__sql __label__database</td>\n",
              "      <td>error specify obviously check select foo spell...</td>\n",
              "    </tr>\n",
              "    <tr>\n",
              "      <th>5107</th>\n",
              "      <td>[linux]</td>\n",
              "      <td>__label__linux</td>\n",
              "      <td>error find quick file miss directory home inst...</td>\n",
              "    </tr>\n",
              "    <tr>\n",
              "      <th>8093</th>\n",
              "      <td>[eclipse]</td>\n",
              "      <td>__label__eclipse</td>\n",
              "      <td>annoy usually date finally file menu branch th...</td>\n",
              "    </tr>\n",
              "    <tr>\n",
              "      <th>7625</th>\n",
              "      <td>[java, multithreading]</td>\n",
              "      <td>__label__java __label__multithreading</td>\n",
              "      <td>various http different seem run specification ...</td>\n",
              "    </tr>\n",
              "    <tr>\n",
              "      <th>2157</th>\n",
              "      <td>[c#, asp.net, authentication]</td>\n",
              "      <td>__label__c# __label__asp.net __label__authent...</td>\n",
              "      <td>solution hard info unable save automate figure...</td>\n",
              "    </tr>\n",
              "    <tr>\n",
              "      <th>8329</th>\n",
              "      <td>[user-interface]</td>\n",
              "      <td>__label__user-interface</td>\n",
              "      <td>create file image use button photoshop friend ...</td>\n",
              "    </tr>\n",
              "    <tr>\n",
              "      <th>2823</th>\n",
              "      <td>[python]</td>\n",
              "      <td>__label__python</td>\n",
              "      <td>tool small search reference live replace admin...</td>\n",
              "    </tr>\n",
              "    <tr>\n",
              "      <th>7716</th>\n",
              "      <td>[java]</td>\n",
              "      <td>__label__java</td>\n",
              "      <td>create necessary get single dependency magic m...</td>\n",
              "    </tr>\n",
              "    <tr>\n",
              "      <th>7884</th>\n",
              "      <td>[sql, oracle]</td>\n",
              "      <td>__label__sql __label__oracle</td>\n",
              "      <td>store tool options procedures oracle write use...</td>\n",
              "    </tr>\n",
              "    <tr>\n",
              "      <th>9830</th>\n",
              "      <td>[c++, windows, command-line]</td>\n",
              "      <td>__label__c++ __label__windows __label__comman...</td>\n",
              "      <td>hope various file tool say fire status develop...</td>\n",
              "    </tr>\n",
              "  </tbody>\n",
              "</table>\n",
              "</div>"
            ],
            "text/plain": [
              "                               Tags  ...                                               Text\n",
              "9230                [sql, database]  ...  error specify obviously check select foo spell...\n",
              "5107                        [linux]  ...  error find quick file miss directory home inst...\n",
              "8093                      [eclipse]  ...  annoy usually date finally file menu branch th...\n",
              "7625         [java, multithreading]  ...  various http different seem run specification ...\n",
              "2157  [c#, asp.net, authentication]  ...  solution hard info unable save automate figure...\n",
              "8329               [user-interface]  ...  create file image use button photoshop friend ...\n",
              "2823                       [python]  ...  tool small search reference live replace admin...\n",
              "7716                         [java]  ...  create necessary get single dependency magic m...\n",
              "7884                  [sql, oracle]  ...  store tool options procedures oracle write use...\n",
              "9830   [c++, windows, command-line]  ...  hope various file tool say fire status develop...\n",
              "\n",
              "[10 rows x 3 columns]"
            ]
          },
          "metadata": {}
        }
      ]
    },
    {
      "cell_type": "code",
      "metadata": {
        "colab": {
          "base_uri": "https://localhost:8080/"
        },
        "id": "UqOlG0LXqP79",
        "outputId": "61dbf04a-b93c-4e50-bd38-a6d2c184f164"
      },
      "source": [
        "#-------------------------------------------------------\n",
        "# It writes Labels and Text in FastText format to train.txt and test.txt files\n",
        "# Those files will be the input for FastText routines\n",
        "#-------------------------------------------------------\n",
        "\n",
        "train_file = os.path.splitext(file2open)[0] + '.train'\n",
        "test_file  = os.path.splitext(file2open)[0] + '.test'\n",
        "\n",
        "train.to_csv(train_file, \n",
        "             header=None, \n",
        "             index=None, \n",
        "             mode='a', \n",
        "             encoding='utf-8', \n",
        "             columns=['Labels', 'Text'],\n",
        "             sep=' ',\n",
        "             escapechar=' ',\n",
        "             quoting=csv.QUOTE_NONE,\n",
        "             quotechar=' '\n",
        "            )\n",
        "\n",
        "print('Ready ', train_file)\n",
        "\n",
        "test.to_csv(test_file,\n",
        "            header=None, \n",
        "            index=None, \n",
        "            mode='a', \n",
        "            encoding='utf-8', \n",
        "            columns=['Labels', 'Text'],\n",
        "            sep=' ',\n",
        "            escapechar=' ',\n",
        "            quoting=csv.QUOTE_NONE,\n",
        "            quotechar=' '\n",
        "           )\n",
        "\n",
        "print('Ready ', test_file)\n"
      ],
      "execution_count": 71,
      "outputs": [
        {
          "output_type": "stream",
          "name": "stdout",
          "text": [
            "Ready  corpus10k.train\n",
            "Ready  corpus10k.test\n"
          ]
        }
      ]
    },
    {
      "cell_type": "code",
      "metadata": {
        "colab": {
          "base_uri": "https://localhost:8080/"
        },
        "id": "Q4F5kDmSqa8B",
        "outputId": "d113b856-32ac-4cf8-c2de-12cc0d35fb04"
      },
      "source": [
        "#-------------------------------------------------------\n",
        "# Training the FastText model\n",
        "#-------------------------------------------------------\n",
        "\n",
        "print('FastText training Begin...', datetime.datetime.now())\n",
        "\n",
        "# Command for training \n",
        "\n",
        "filename = os.path.splitext(file2open)[0]\n",
        "\n",
        "input_file = filename + '.train'\n",
        "\n",
        "output_file = filename\n",
        "\n",
        "result_file = filename + \".result\"\n",
        "\n",
        "batcmd = './fasttext supervised -input '+ input_file + ' -output ' + \\\n",
        "                                          output_file + ' -dim 10 -lr 0.9 -wordNgrams 1 -minCount 1 -bucket 10000000 -epoch 25' + \\\n",
        "                                          '> ' + result_file\n",
        "\n",
        "result = subprocess.check_output(batcmd, shell=True)\n",
        "\n",
        "# print(result.decode('utf-8'))\n",
        "# batcmd = 'cat ' + result_file\n",
        "# result = subprocess.check_output(batcmd, shell=True)\n",
        "\n",
        "# input_file = 'train-' + os.path.splitext(file2open)[0] + '.txt'\n",
        "\n",
        "# output_file = 'train-' + os.path.splitext(file2open)[0]\n",
        "\n",
        "# # ft_model = ft.train_supervised(input=input_file)\n",
        "\n",
        "# !./fasttext supervised -input input_file -output output_file -dim 10 -lr 1 -wordNgrams 1 -minCount 1 -bucket 10000000 -epoch 25\n",
        "\n",
        "# print('FastText Model Words\\n')\n",
        "# print(ft_model.words)\n",
        "\n",
        "# print('FastText Model Labels\\n')\n",
        "# print(ft_model.labels)\n",
        "\n",
        "print('FastText training End...', datetime.datetime.now())\n",
        "\n",
        "print('Ready')\n"
      ],
      "execution_count": 78,
      "outputs": [
        {
          "output_type": "stream",
          "name": "stdout",
          "text": [
            "FastText training Begin... 2021-09-25 21:55:03.189536\n",
            "FastText training End... 2021-09-25 21:55:08.285600\n",
            "Ready\n"
          ]
        }
      ]
    },
    {
      "cell_type": "code",
      "metadata": {
        "colab": {
          "base_uri": "https://localhost:8080/"
        },
        "id": "__C_vEsPvAbB",
        "outputId": "0a0a714a-0f0d-4f91-ccd6-d7593245c108"
      },
      "source": [
        "#-------------------------------------------------------\n",
        "# Testing the fast text model\n",
        "#-------------------------------------------------------\n",
        "\n",
        "# Command for testing\n",
        "\n",
        "input_file = filename + '.bin'\n",
        "\n",
        "test_file  = filename + '.test'\n",
        "\n",
        "# batcmd = 'fasttext test '+ input_file + ' ' + output_file + ' 2>$null'\n",
        "\n",
        "batcmd = './fasttext test '+ input_file + ' ' + test_file \n",
        "\n",
        "print('fast text Begin...', datetime.datetime.now())\n",
        "\n",
        "result = subprocess.check_output(batcmd, shell=True)\n",
        "\n",
        "print('fast text End...', datetime.datetime.now())\n",
        "\n",
        "print(result.decode('utf-8'))\n"
      ],
      "execution_count": 82,
      "outputs": [
        {
          "output_type": "stream",
          "name": "stdout",
          "text": [
            "fast text Begin... 2021-09-25 22:03:40.527759\n",
            "fast text End... 2021-09-25 22:03:40.611738\n",
            "N\t1919\n",
            "P@1\t0.926\n",
            "R@1\t0.522\n",
            "\n"
          ]
        }
      ]
    },
    {
      "cell_type": "code",
      "metadata": {
        "colab": {
          "base_uri": "https://localhost:8080/"
        },
        "id": "yVpkGwdkrIQS",
        "outputId": "b8cf9696-04b6-4697-8550-fe1331bebe53"
      },
      "source": [
        "#-------------------------------------------------------\n",
        "# Predicting labels\n",
        "#-------------------------------------------------------\n",
        "\n",
        "# File where question is written\n",
        "question_file = open(\"question.txt\", \"w\")\n",
        "\n",
        "# File that contains the model\n",
        "input_file = filename + '.bin'\n",
        "\n",
        "# User is asked\n",
        "question = input(\"Please, enter your question:\\n\")\n",
        "\n",
        "# Question is cleaned and lemmatized\n",
        "question2 = clean_txt(question)\n",
        "\n",
        "# Question is written to a file\n",
        "n = question_file.write(question2)\n",
        "\n",
        "# Question file is closed\n",
        "question_file.close()\n",
        "\n",
        "# FastText string command is assembled\n",
        "batcmd = './fasttext predict '+ input_file + ' question.txt 5 1>labels.csv'\n",
        "\n",
        "# FastText commnd is executed. Output written to \"labels.csv\"\n",
        "result = subprocess.check_output(batcmd, shell=True)\n",
        "\n",
        "# labels are read and split into a list\n",
        "csv_reader = csv.reader(codecs.open('labels.csv', 'rU', 'utf-8'))\n",
        "\n",
        "lists_from_csv = []\n",
        "\n",
        "for row in csv_reader:\n",
        "    lists_from_csv.append(row)\n",
        "\n",
        "list_from_csv = list(tuple(remove_label(l,'__label__') for l in lists_from_csv[0][0].split()))\n",
        "\n",
        "print(list_from_csv)\n"
      ],
      "execution_count": 83,
      "outputs": [
        {
          "output_type": "stream",
          "name": "stdout",
          "text": [
            "Please, enter your question:\n",
            "I want to write a program in Python that sends a message from a smartphone to the screens of several computers running different operating systems like Windows, Unix, MacOs, etc. across a TCP/IP network.\n",
            "['networking', 'python', 'macos', 'windows', 'user-interface']\n"
          ]
        }
      ]
    },
    {
      "cell_type": "code",
      "metadata": {
        "colab": {
          "base_uri": "https://localhost:8080/"
        },
        "id": "CT4R4f3_DYYL",
        "outputId": "2c22c046-9cf6-4434-949d-21dd98af5823"
      },
      "source": [
        "# change the current directory to specified directory\n",
        "os.chdir(r\"..\")\n",
        " \n",
        "print(\"Directory changed\")"
      ],
      "execution_count": 93,
      "outputs": [
        {
          "output_type": "stream",
          "name": "stdout",
          "text": [
            "Directory changed\n"
          ]
        }
      ]
    },
    {
      "cell_type": "code",
      "metadata": {
        "colab": {
          "base_uri": "https://localhost:8080/"
        },
        "id": "e3H7d-uYEJH5",
        "outputId": "fcb54af6-9980-44fb-faa2-356efa061a28"
      },
      "source": [
        "! rmdir result && ls -l"
      ],
      "execution_count": 96,
      "outputs": [
        {
          "output_type": "stream",
          "name": "stdout",
          "text": [
            "total 28472\n",
            "drwxr-xr-x 2 root root     4096 Sep 25 18:01 alignment\n",
            "-rw-r--r-- 1 root root    80592 Sep 25 21:10 args.o\n",
            "-rw-r--r-- 1 root root   104976 Sep 25 21:10 autotune.o\n",
            "drwxr-xr-x 5 root root     4096 Sep 25 18:38 build\n",
            "-rwxr-xr-x 1 root root     1428 Sep 25 18:01 classification-example.sh\n",
            "-rwxr-xr-x 1 root root     3154 Sep 25 18:01 classification-results.sh\n",
            "-rw-r--r-- 1 root root     2214 Sep 25 18:01 CMakeLists.txt\n",
            "-rw-r--r-- 1 root root     3356 Sep 25 18:01 CODE_OF_CONDUCT.md\n",
            "-rw-r--r-- 1 root root     2061 Sep 25 18:01 CONTRIBUTING.md\n",
            "-rw-r--r-- 1 root root  1859871 Sep 25 21:55 corpus10k.bin\n",
            "-rw-r--r-- 1 root root 12393293 Sep 25 18:42 corpus10k.csv\n",
            "-rw-r--r-- 1 root root        0 Sep 25 21:55 corpus10k.result\n",
            "-rw-r--r-- 1 root root   700856 Sep 25 21:34 corpus10k.test\n",
            "-rw-r--r-- 1 root root  6300834 Sep 25 21:34 corpus10k.train\n",
            "-rw-r--r-- 1 root root  3033081 Sep 25 21:55 corpus10k.vec\n",
            "drwxr-xr-x 2 root root     4096 Sep 25 18:01 crawl\n",
            "drwxr-xr-x 3 root root     4096 Sep 25 21:10 data\n",
            "-rw-r--r-- 1 root root    33536 Sep 25 21:10 densematrix.o\n",
            "-rw-r--r-- 1 root root    96264 Sep 25 21:10 dictionary.o\n",
            "drwxr-xr-x 2 root root     4096 Sep 25 18:38 dist\n",
            "drwxr-xr-x 2 root root     4096 Sep 25 18:01 docs\n",
            "-rwxr-xr-x 1 root root     1287 Sep 25 18:01 download_model.py\n",
            "-rw-r--r-- 1 root root     2102 Sep 25 18:01 eval.py\n",
            "-rwxr-xr-x 1 root root   458120 Sep 25 21:10 fasttext\n",
            "-rw-r--r-- 1 root root   205888 Sep 25 21:10 fasttext.o\n",
            "-rw-r--r-- 1 root root      338 Sep 25 18:01 fasttext.pc.in\n",
            "-rwxr-xr-x 1 root root     3310 Sep 25 18:01 get-wikimedia.sh\n",
            "-rw-r--r-- 1 root root       92 Sep 25 22:18 labels.csv\n",
            "-rw-r--r-- 1 root root     1080 Sep 25 18:01 LICENSE\n",
            "-rw-r--r-- 1 root root    62360 Sep 25 21:10 loss.o\n",
            "-rw-r--r-- 1 root root     4217 Sep 25 18:01 Makefile\n",
            "-rw-r--r-- 1 root root       95 Sep 25 18:01 MANIFEST.in\n",
            "-rw-r--r-- 1 root root     3136 Sep 25 21:10 matrix.o\n",
            "-rw-r--r-- 1 root root    37120 Sep 25 21:10 meter.o\n",
            "-rw-r--r-- 1 root root     7376 Sep 25 21:10 model.o\n",
            "-rw-r--r-- 1 root root     1090 Sep 25 18:42 other-stop-words.txt\n",
            "-rw-r--r-- 1 root root    35208 Sep 25 21:10 productquantizer.o\n",
            "drwxr-xr-x 5 root root     4096 Sep 25 18:01 python\n",
            "-rwxr-xr-x 1 root root     1576 Sep 25 18:01 quantization-example.sh\n",
            "-rw-r--r-- 1 root root    16000 Sep 25 21:10 quantmatrix.o\n",
            "-rw-r--r-- 1 root root      134 Sep 25 22:18 question.txt\n",
            "-rw-r--r-- 1 root root    13612 Sep 25 18:01 README.md\n",
            "-rwxr-xr-x 1 root root     2853 Sep 25 18:01 reduce_model.py\n",
            "-rw-r--r-- 1 root root     1820 Sep 25 18:01 runtests.py\n",
            "drwxr-xr-x 4 root root     4096 Sep 25 18:01 scripts\n",
            "-rw-r--r-- 1 root root       40 Sep 25 18:01 setup.cfg\n",
            "-rw-r--r-- 1 root root     6451 Sep 25 18:01 setup.py\n",
            "drwxr-xr-x 2 root root     4096 Sep 25 18:01 src\n",
            "-rw-r--r-- 1 root root   700856 Sep 25 20:32 test-corpus10k.txt\n",
            "drwxr-xr-x 2 root root     4096 Sep 25 18:01 tests\n",
            "drwxr-xr-x 2 root root     4096 Sep 25 18:37 tmp\n",
            "-rw-r--r-- 1 root root  2799989 Sep 25 20:32 train-corpus10k.txt\n",
            "-rw-r--r-- 1 root root     3800 Sep 25 21:10 utils.o\n",
            "-rw-r--r-- 1 root root     9504 Sep 25 21:10 vector.o\n",
            "drwxr-xr-x 3 root root     4096 Sep 25 18:01 webassembly\n",
            "drwxr-xr-x 6 root root     4096 Sep 25 18:01 website\n",
            "-rw-r--r-- 1 root root     1995 Sep 25 18:01 wikifil.pl\n",
            "-rwxr-xr-x 1 root root     1179 Sep 25 18:01 word-vector-example.sh\n"
          ]
        }
      ]
    }
  ]
}