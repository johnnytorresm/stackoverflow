{
  "nbformat": 4,
  "nbformat_minor": 0,
  "metadata": {
    "colab": {
      "name": "fast_text.ipynb",
      "provenance": [],
      "collapsed_sections": [],
      "authorship_tag": "ABX9TyNTRaDUn5IJtIVN7E+RzmVw",
      "include_colab_link": true
    },
    "kernelspec": {
      "name": "python3",
      "display_name": "Python 3"
    },
    "language_info": {
      "name": "python"
    }
  },
  "cells": [
    {
      "cell_type": "markdown",
      "metadata": {
        "id": "view-in-github",
        "colab_type": "text"
      },
      "source": [
        "<a href=\"https://colab.research.google.com/github/johnnytorresm/stackoverflow/blob/main/fast_text2.ipynb\" target=\"_parent\"><img src=\"https://colab.research.google.com/assets/colab-badge.svg\" alt=\"Open In Colab\"/></a>"
      ]
    },
    {
      "cell_type": "code",
      "metadata": {
        "colab": {
          "base_uri": "https://localhost:8080/"
        },
        "id": "kFKJ_1fEWX_J",
        "outputId": "afb4c3d5-5aa2-4f4f-fa28-b416173287bc"
      },
      "source": [
        "# ! pwd\n",
        "import subprocess\n",
        "p = subprocess.Popen([\"pwd\"], stdout=subprocess.PIPE)\n",
        "output, err = p.communicate()\n",
        "print(\"*** Running pwd command ***\\n\", output.decode('ascii'), err)"
      ],
      "execution_count": 3,
      "outputs": [
        {
          "output_type": "stream",
          "name": "stdout",
          "text": [
            "*** Running pwd command ***\n",
            " /content\n",
            " None\n"
          ]
        }
      ]
    },
    {
      "cell_type": "code",
      "metadata": {
        "id": "zVB4quqRsVQF",
        "colab": {
          "base_uri": "https://localhost:8080/"
        },
        "outputId": "3a935d6c-8740-45f5-e861-8e90be783a5c"
      },
      "source": [
        "# Installing FastText\n",
        "\n",
        "# # Cloning fastText from GitHub\n",
        "# import os library\n",
        "import os\n",
        "os.system('git clone https://github.com/facebookresearch/fastText.git')\n",
        "# change the current directory to specified directory\n",
        "# os.chdir(r\"./fastText\")\n",
        "print(\"Cloned\")"
      ],
      "execution_count": 4,
      "outputs": [
        {
          "output_type": "stream",
          "name": "stdout",
          "text": [
            "Cloned\n"
          ]
        }
      ]
    },
    {
      "cell_type": "code",
      "metadata": {
        "colab": {
          "base_uri": "https://localhost:8080/"
        },
        "id": "fMvLj2U7Zzfg",
        "outputId": "9dc96d88-4891-4cfd-df6f-def3dd680db3"
      },
      "source": [
        "\n",
        "# p = subprocess.Popen([\"cd\", \"fastText\"], stdout=subprocess.PIPE)\n",
        "# output, err = p.communicate()\n",
        "# # print(\"*** Running cd command ***\\n\", output, err)\n",
        "# os.chdir(\"fastText\")\n",
        "# print(\"Directory changed\")\n",
        "\n",
        "p = subprocess.Popen([\"pwd\"], stdout=subprocess.PIPE)\n",
        "output, err = p.communicate()\n",
        "print(\"*** Running pwd command ***\\n\", output.decode('ascii'), err)\n",
        "\n",
        "p = subprocess.Popen([\"ls\", \"-l\"], stdout=subprocess.PIPE)\n",
        "output, err = p.communicate()\n",
        "print(\"*** Running ls -l command ***\\n\", output.decode('ascii'), err)"
      ],
      "execution_count": 5,
      "outputs": [
        {
          "output_type": "stream",
          "name": "stdout",
          "text": [
            "*** Running pwd command ***\n",
            " /content\n",
            " None\n",
            "*** Running ls -l command ***\n",
            " total 8\n",
            "drwxr-xr-x 13 root root 4096 Oct  3 16:08 fastText\n",
            "drwxr-xr-x  1 root root 4096 Sep 30 17:12 sample_data\n",
            " None\n"
          ]
        }
      ]
    },
    {
      "cell_type": "code",
      "metadata": {
        "colab": {
          "base_uri": "https://localhost:8080/"
        },
        "id": "oiy81FGf2JhS",
        "outputId": "857d9468-b2ec-4552-b0bc-478c2308b341"
      },
      "source": [
        "os.chdir(\"fastText\")\n",
        "# p = subprocess.Popen([\"cd\", \"fastText\"], stdout=subprocess.PIPE)\n",
        "# output, err = p.communicate()\n",
        "print(\"*** Running cd command ***\\n\", output, err)\n",
        "print(\"Directory changed\")\n",
        "os.system('make')"
      ],
      "execution_count": 7,
      "outputs": [
        {
          "output_type": "stream",
          "name": "stdout",
          "text": [
            "*** Running cd command ***\n",
            " b'total 8\\ndrwxr-xr-x 13 root root 4096 Oct  3 16:08 fastText\\ndrwxr-xr-x  1 root root 4096 Sep 30 17:12 sample_data\\n' None\n",
            "Directory changed\n"
          ]
        },
        {
          "output_type": "execute_result",
          "data": {
            "text/plain": [
              "0"
            ]
          },
          "metadata": {},
          "execution_count": 7
        }
      ]
    },
    {
      "cell_type": "code",
      "metadata": {
        "colab": {
          "base_uri": "https://localhost:8080/"
        },
        "id": "W-PBSzvd7A0K",
        "outputId": "7dfd5e8b-0b8c-41aa-9e12-a9935981b047"
      },
      "source": [
        "p = subprocess.Popen([\"ls\", \"-l\"], stdout=subprocess.PIPE)\n",
        "output, err = p.communicate()\n",
        "print(\"*** Running ls -l command ***\\n\", output.decode('ascii'), err)"
      ],
      "execution_count": 8,
      "outputs": [
        {
          "output_type": "stream",
          "name": "stdout",
          "text": [
            "*** Running ls -l command ***\n",
            " total 1288\n",
            "drwxr-xr-x 2 root root   4096 Oct  3 16:08 alignment\n",
            "-rw-r--r-- 1 root root  80592 Oct  3 16:10 args.o\n",
            "-rw-r--r-- 1 root root 104976 Oct  3 16:10 autotune.o\n",
            "-rwxr-xr-x 1 root root   1428 Oct  3 16:08 classification-example.sh\n",
            "-rwxr-xr-x 1 root root   3154 Oct  3 16:08 classification-results.sh\n",
            "-rw-r--r-- 1 root root   2214 Oct  3 16:08 CMakeLists.txt\n",
            "-rw-r--r-- 1 root root   3356 Oct  3 16:08 CODE_OF_CONDUCT.md\n",
            "-rw-r--r-- 1 root root   2061 Oct  3 16:08 CONTRIBUTING.md\n",
            "drwxr-xr-x 2 root root   4096 Oct  3 16:08 crawl\n",
            "-rw-r--r-- 1 root root  33536 Oct  3 16:10 densematrix.o\n",
            "-rw-r--r-- 1 root root  96264 Oct  3 16:10 dictionary.o\n",
            "drwxr-xr-x 2 root root   4096 Oct  3 16:08 docs\n",
            "-rwxr-xr-x 1 root root   1287 Oct  3 16:08 download_model.py\n",
            "-rw-r--r-- 1 root root   2102 Oct  3 16:08 eval.py\n",
            "-rwxr-xr-x 1 root root 458120 Oct  3 16:10 fasttext\n",
            "-rw-r--r-- 1 root root 205888 Oct  3 16:10 fasttext.o\n",
            "-rw-r--r-- 1 root root    338 Oct  3 16:08 fasttext.pc.in\n",
            "-rwxr-xr-x 1 root root   3310 Oct  3 16:08 get-wikimedia.sh\n",
            "-rw-r--r-- 1 root root   1080 Oct  3 16:08 LICENSE\n",
            "-rw-r--r-- 1 root root  62360 Oct  3 16:10 loss.o\n",
            "-rw-r--r-- 1 root root   4217 Oct  3 16:08 Makefile\n",
            "-rw-r--r-- 1 root root     95 Oct  3 16:08 MANIFEST.in\n",
            "-rw-r--r-- 1 root root   3136 Oct  3 16:10 matrix.o\n",
            "-rw-r--r-- 1 root root  37120 Oct  3 16:10 meter.o\n",
            "-rw-r--r-- 1 root root   7376 Oct  3 16:10 model.o\n",
            "-rw-r--r-- 1 root root  35208 Oct  3 16:10 productquantizer.o\n",
            "drwxr-xr-x 5 root root   4096 Oct  3 16:08 python\n",
            "-rwxr-xr-x 1 root root   1576 Oct  3 16:08 quantization-example.sh\n",
            "-rw-r--r-- 1 root root  16000 Oct  3 16:10 quantmatrix.o\n",
            "-rw-r--r-- 1 root root  13612 Oct  3 16:08 README.md\n",
            "-rwxr-xr-x 1 root root   2853 Oct  3 16:08 reduce_model.py\n",
            "-rw-r--r-- 1 root root   1820 Oct  3 16:08 runtests.py\n",
            "drwxr-xr-x 4 root root   4096 Oct  3 16:08 scripts\n",
            "-rw-r--r-- 1 root root     40 Oct  3 16:08 setup.cfg\n",
            "-rw-r--r-- 1 root root   6451 Oct  3 16:08 setup.py\n",
            "drwxr-xr-x 2 root root   4096 Oct  3 16:08 src\n",
            "drwxr-xr-x 2 root root   4096 Oct  3 16:08 tests\n",
            "-rw-r--r-- 1 root root   3800 Oct  3 16:10 utils.o\n",
            "-rw-r--r-- 1 root root   9504 Oct  3 16:10 vector.o\n",
            "drwxr-xr-x 3 root root   4096 Oct  3 16:08 webassembly\n",
            "drwxr-xr-x 6 root root   4096 Oct  3 16:08 website\n",
            "-rw-r--r-- 1 root root   1995 Oct  3 16:08 wikifil.pl\n",
            "-rwxr-xr-x 1 root root   1179 Oct  3 16:08 word-vector-example.sh\n",
            " None\n"
          ]
        }
      ]
    },
    {
      "cell_type": "code",
      "metadata": {
        "colab": {
          "base_uri": "https://localhost:8080/"
        },
        "id": "NA3cWwvrir0A",
        "outputId": "a8b2218f-050f-438a-ed24-396941243fdf"
      },
      "source": [
        "#-----------------------------\n",
        "# Importing libraries\n",
        "#-----------------------------\n",
        "import numpy as np \n",
        "import pandas as pd\n",
        "import re\n",
        "import datetime\n",
        "import glob\n",
        "import string \n",
        "import io\n",
        "from scipy import sparse\n",
        "import csv\n",
        "import codecs\n",
        "\n",
        "import nltk\n",
        "nltk.download(\"stopwords\")\n",
        "nltk.download(\"punkt\")\n",
        "nltk.download(\"wordnet\")\n",
        "\n",
        "from datetime import timedelta\n",
        "from sklearn.feature_extraction.text import TfidfTransformer  \n",
        "from sklearn.feature_extraction.text import CountVectorizer\n",
        "from sklearn.feature_extraction.text import TfidfVectorizer\n",
        "\n",
        "from sklearn.preprocessing import MultiLabelBinarizer\n",
        "\n",
        "from sklearn.linear_model import SGDClassifier\n",
        "from sklearn.linear_model import LogisticRegression\n",
        "from sklearn.linear_model import LogisticRegressionCV\n",
        "\n",
        "from sklearn.svm import LinearSVC\n",
        "from sklearn.svm import SVC\n",
        "\n",
        "from sklearn.naive_bayes import MultinomialNB\n",
        "from sklearn.naive_bayes import GaussianNB\n",
        "\n",
        "import fastText as ft\n",
        "\n",
        "from collections import Counter\n",
        "\n",
        "from nltk.corpus import stopwords\n",
        "from nltk.tokenize import word_tokenize\n",
        "from nltk.stem import WordNetLemmatizer \n",
        "from sklearn.model_selection import train_test_split\n",
        "\n",
        "import sklearn.metrics as metrics\n",
        "\n",
        "from sklearn.metrics import precision_score\n",
        "from sklearn.metrics import recall_score\n",
        "from sklearn.metrics import f1_score\n",
        "\n",
        "import ast\n",
        "from collections import Counter\n",
        "\n",
        "%matplotlib inline\n",
        "\n",
        "import warnings\n",
        "warnings.filterwarnings(\"ignore\")\n",
        "\n",
        "print('\\nLibraries have been imported')\n"
      ],
      "execution_count": 9,
      "outputs": [
        {
          "output_type": "stream",
          "name": "stdout",
          "text": [
            "[nltk_data] Downloading package stopwords to /root/nltk_data...\n",
            "[nltk_data]   Unzipping corpora/stopwords.zip.\n",
            "[nltk_data] Downloading package punkt to /root/nltk_data...\n",
            "[nltk_data]   Unzipping tokenizers/punkt.zip.\n",
            "[nltk_data] Downloading package wordnet to /root/nltk_data...\n",
            "[nltk_data]   Unzipping corpora/wordnet.zip.\n",
            "\n",
            "Libraries have been imported\n"
          ]
        }
      ]
    },
    {
      "cell_type": "code",
      "metadata": {
        "colab": {
          "base_uri": "https://localhost:8080/"
        },
        "id": "ZmbmEijWjw59",
        "outputId": "4f98bb30-4415-44d7-bfdf-b1e1921cd494"
      },
      "source": [
        "! pwd"
      ],
      "execution_count": 5,
      "outputs": [
        {
          "output_type": "stream",
          "name": "stdout",
          "text": [
            "/content/fastText\n"
          ]
        }
      ]
    },
    {
      "cell_type": "code",
      "metadata": {
        "colab": {
          "base_uri": "https://localhost:8080/"
        },
        "id": "oaDlZ4oReP4K",
        "outputId": "296312da-90d7-4a5a-ff61-722ef95966a3"
      },
      "source": [
        "from pathlib import Path\n",
        "path = Path(os.getcwd())\n",
        "parent = str(path.parent.absolute())\n",
        "original_file = parent + \"/corpus10k.csv\"\n",
        "p = subprocess.Popen([\"cp\", original_file, \".\"], stdout=subprocess.PIPE)\n",
        "output, err = p.communicate()\n",
        "print(\"*** copying files ***\\n\", output.decode('ascii'), err)\n",
        "original_file = parent + \"/other-stop-words.txt\"\n",
        "p = subprocess.Popen([\"cp\", original_file, \".\"], stdout=subprocess.PIPE)\n",
        "output, err = p.communicate()\n",
        "print(\"*** copying files ***\\n\", output.decode('ascii'), err)\n",
        "p = subprocess.Popen([\"ls\", \"-l\"], stdout=subprocess.PIPE)\n",
        "output, err = p.communicate()\n",
        "print(\"*** Running ls -l command ***\\n\", output.decode('ascii'), err)"
      ],
      "execution_count": 11,
      "outputs": [
        {
          "output_type": "stream",
          "name": "stdout",
          "text": [
            "*** copying files ***\n",
            "  None\n",
            "*** copying files ***\n",
            "  None\n",
            "*** Running ls -l command ***\n",
            " total 13396\n",
            "drwxr-xr-x 2 root root     4096 Oct  3 16:08 alignment\n",
            "-rw-r--r-- 1 root root    80592 Oct  3 16:10 args.o\n",
            "-rw-r--r-- 1 root root   104976 Oct  3 16:10 autotune.o\n",
            "-rwxr-xr-x 1 root root     1428 Oct  3 16:08 classification-example.sh\n",
            "-rwxr-xr-x 1 root root     3154 Oct  3 16:08 classification-results.sh\n",
            "-rw-r--r-- 1 root root     2214 Oct  3 16:08 CMakeLists.txt\n",
            "-rw-r--r-- 1 root root     3356 Oct  3 16:08 CODE_OF_CONDUCT.md\n",
            "-rw-r--r-- 1 root root     2061 Oct  3 16:08 CONTRIBUTING.md\n",
            "-rw-r--r-- 1 root root 12393293 Oct  3 16:14 corpus10k.csv\n",
            "drwxr-xr-x 2 root root     4096 Oct  3 16:08 crawl\n",
            "-rw-r--r-- 1 root root    33536 Oct  3 16:10 densematrix.o\n",
            "-rw-r--r-- 1 root root    96264 Oct  3 16:10 dictionary.o\n",
            "drwxr-xr-x 2 root root     4096 Oct  3 16:08 docs\n",
            "-rwxr-xr-x 1 root root     1287 Oct  3 16:08 download_model.py\n",
            "-rw-r--r-- 1 root root     2102 Oct  3 16:08 eval.py\n",
            "-rwxr-xr-x 1 root root   458120 Oct  3 16:10 fasttext\n",
            "-rw-r--r-- 1 root root   205888 Oct  3 16:10 fasttext.o\n",
            "-rw-r--r-- 1 root root      338 Oct  3 16:08 fasttext.pc.in\n",
            "-rwxr-xr-x 1 root root     3310 Oct  3 16:08 get-wikimedia.sh\n",
            "-rw-r--r-- 1 root root     1080 Oct  3 16:08 LICENSE\n",
            "-rw-r--r-- 1 root root    62360 Oct  3 16:10 loss.o\n",
            "-rw-r--r-- 1 root root     4217 Oct  3 16:08 Makefile\n",
            "-rw-r--r-- 1 root root       95 Oct  3 16:08 MANIFEST.in\n",
            "-rw-r--r-- 1 root root     3136 Oct  3 16:10 matrix.o\n",
            "-rw-r--r-- 1 root root    37120 Oct  3 16:10 meter.o\n",
            "-rw-r--r-- 1 root root     7376 Oct  3 16:10 model.o\n",
            "-rw-r--r-- 1 root root     1090 Oct  3 16:14 other-stop-words.txt\n",
            "-rw-r--r-- 1 root root    35208 Oct  3 16:10 productquantizer.o\n",
            "drwxr-xr-x 5 root root     4096 Oct  3 16:08 python\n",
            "-rwxr-xr-x 1 root root     1576 Oct  3 16:08 quantization-example.sh\n",
            "-rw-r--r-- 1 root root    16000 Oct  3 16:10 quantmatrix.o\n",
            "-rw-r--r-- 1 root root    13612 Oct  3 16:08 README.md\n",
            "-rwxr-xr-x 1 root root     2853 Oct  3 16:08 reduce_model.py\n",
            "-rw-r--r-- 1 root root     1820 Oct  3 16:08 runtests.py\n",
            "drwxr-xr-x 4 root root     4096 Oct  3 16:08 scripts\n",
            "-rw-r--r-- 1 root root       40 Oct  3 16:08 setup.cfg\n",
            "-rw-r--r-- 1 root root     6451 Oct  3 16:08 setup.py\n",
            "drwxr-xr-x 2 root root     4096 Oct  3 16:08 src\n",
            "drwxr-xr-x 2 root root     4096 Oct  3 16:08 tests\n",
            "-rw-r--r-- 1 root root     3800 Oct  3 16:10 utils.o\n",
            "-rw-r--r-- 1 root root     9504 Oct  3 16:10 vector.o\n",
            "drwxr-xr-x 3 root root     4096 Oct  3 16:08 webassembly\n",
            "drwxr-xr-x 6 root root     4096 Oct  3 16:08 website\n",
            "-rw-r--r-- 1 root root     1995 Oct  3 16:08 wikifil.pl\n",
            "-rwxr-xr-x 1 root root     1179 Oct  3 16:08 word-vector-example.sh\n",
            " None\n"
          ]
        }
      ]
    },
    {
      "cell_type": "code",
      "metadata": {
        "colab": {
          "base_uri": "https://localhost:8080/"
        },
        "id": "JcVMC-TIr9y0",
        "outputId": "5df1149f-730f-4b51-90a4-9a1bec37fe5c"
      },
      "source": [
        "! ls -l /content/*.txt"
      ],
      "execution_count": 12,
      "outputs": [
        {
          "output_type": "stream",
          "name": "stdout",
          "text": [
            "-rw-r--r-- 1 root root 1090 Oct  3 16:13 /content/other-stop-words.txt\n"
          ]
        }
      ]
    },
    {
      "cell_type": "code",
      "metadata": {
        "colab": {
          "base_uri": "https://localhost:8080/"
        },
        "id": "qZ4TUF8RsmxB",
        "outputId": "5fd45dc8-b601-413e-b3ef-90bcf69179d6"
      },
      "source": [
        "! ls -l /content/*.csv"
      ],
      "execution_count": 13,
      "outputs": [
        {
          "output_type": "stream",
          "name": "stdout",
          "text": [
            "-rw-r--r-- 1 root root 12393293 Oct  3 16:13 /content/corpus10k.csv\n"
          ]
        }
      ]
    },
    {
      "cell_type": "code",
      "metadata": {
        "colab": {
          "base_uri": "https://localhost:8080/"
        },
        "id": "Rf4u3JqcjYKq",
        "outputId": "fd555f4e-a8c4-4c7b-9621-769aae53b4c2"
      },
      "source": [
        "#--------------------\n",
        "# Global Variables\n",
        "#--------------------\n",
        "sw  = set(stopwords.words())\n",
        "\n",
        "# Exhaustive list of English prepositions to be added to stop words\n",
        "preps = pd.read_csv('/content/other-stop-words.txt', header=None, names=['other-stop-words'])\n",
        "preps_set = set(preps['other-stop-words'].tolist())\n",
        "sw |= preps_set\n",
        "\n",
        "# Init the Wordnet Lemmatizer\n",
        "lemmatizer = WordNetLemmatizer()\n",
        "\n",
        "print('Global Variables have been defined')\n"
      ],
      "execution_count": 15,
      "outputs": [
        {
          "output_type": "stream",
          "name": "stdout",
          "text": [
            "Global Variables have been defined\n"
          ]
        }
      ]
    },
    {
      "cell_type": "code",
      "metadata": {
        "colab": {
          "base_uri": "https://localhost:8080/"
        },
        "id": "nWxG3lQ8kUHr",
        "outputId": "2df03044-9d7f-414a-ac1d-284bc63bc9c7"
      },
      "source": [
        "#-----------------------------------------\n",
        "# Function definitions\n",
        "#-----------------------------------------\n",
        "\n",
        "#----------------------------------------------------\n",
        "# clean_txt: Cleans a string, and then lemmatize it.\n",
        "#----------------------------------------------------\n",
        "def clean_txt(txt): \n",
        "    # txt: string to clean\n",
        "    \n",
        "    global sw, lemmatizer                # sw = English stop words; lemmatizer from WordNet\n",
        "\n",
        "    # 1. Lowercase \n",
        "    txt = txt.lower()\n",
        "\n",
        "    # 2. Strip HTML code\n",
        "    txt = re.sub('<[^<]+?>', ' ', txt)\n",
        "\n",
        "    # 3. Strip punctuation signs\n",
        "    txt = re.sub('[^\\w\\s]', ' ', txt)\n",
        "    txt = re.sub('\\*', ' ', txt)\n",
        "\n",
        "    # 4. remove stop words\n",
        "    txt_set = set(nltk.word_tokenize(txt))\n",
        "    txt_lst = [w for w in txt_set if (not w in sw)]\n",
        "    txt_set = set(txt_lst)\n",
        "    txt_lst = list(txt_set)\n",
        "    \n",
        "    # 5. Lemmatisation\n",
        "    txt_lst = [lemmatizer.lemmatize(w, pos='v') for w in txt_lst]\n",
        "    txt = ' '.join([lemmatizer.lemmatize(w, pos='n') for w in txt_lst])\n",
        "    \n",
        "    return txt\n",
        "\n",
        "#-----------------------------------------\n",
        "# display_topics after LDA\n",
        "#-----------------------------------------\n",
        "def display_topics(model, feature_names, no_top_words):\n",
        "    topics = []\n",
        "    for topic_idx, topic in enumerate(model.components_):\n",
        "        print(\"Topic {}:\".format(topic_idx))\n",
        "        topic_list = \" \".join([feature_names[i] for i in topic.argsort()[:-no_top_words-1:-1]])\n",
        "        print(topic_list)\n",
        "        topics.append(topic_list)\n",
        "    return topics\n",
        "    \n",
        "#-----------------------------------------\n",
        "# Print a classifier's scores\n",
        "#-----------------------------------------\n",
        "def print_score(y_true, y_pred, clf):\n",
        "    print(\"Classifier: \", clf.__class__.__name__)\n",
        "    print(\"Precision score : {}\".format(precision_score(y_true, y_pred, average='weighted')))\n",
        "    print(\"Recall score : {}\".format(recall_score(y_true, y_pred, average='weighted')))\n",
        "    print(\"F1 score : {}\".format(f1_score(y_true, y_pred, average='weighted')))\n",
        "\n",
        "#-----------------------------------------\n",
        "# Print fasttext's scores\n",
        "#-----------------------------------------\n",
        "def ft_results(N, p, r):\n",
        "    print(\"N\\t\" + str(N))\n",
        "    f1 = 2 * ( p * r ) / ( p + r)   # calculate f1 score\n",
        "    print(\"P@{}\\t{:.4f}\".format(1, p))\n",
        "    print(\"R@{}\\t{:.4f}\".format(1, r))\n",
        "    print(\"F1@{}\\t{:.4f}\".format(1, f1))\n",
        "    \n",
        "#-----------------------------------------\n",
        "# Receives a list of tags and returns\n",
        "# a list of Labels in fasttext format\n",
        "#-----------------------------------------\n",
        "def labels(Tags):\n",
        "    y_labels = ' '\n",
        "    for t in Tags:\n",
        "        y_labels += '__label__'+ t + ' '\n",
        "    \n",
        "    return y_labels\n",
        "\n",
        "#-----------------------------------------\n",
        "# most frequent tags in the corpus\n",
        "#-----------------------------------------\n",
        "def most_used_tags(tags, top_tags):\n",
        "    final_tags = []\n",
        "    for tag in tags:\n",
        "        if tag in top_tags['Tags'].values:\n",
        "            final_tags.append(tag)\n",
        "    return final_tags\n",
        "\n",
        "#-----------------------------------------\n",
        "# Select file from a directory\n",
        "#-----------------------------------------\n",
        "def select_files(b):\n",
        "    clear_output()\n",
        "    root = Tk()\n",
        "    root.withdraw() # Hide the main window.\n",
        "    root.call('wm', 'attributes', '.', '-topmost', True) # Raise the root to the top of all windows.\n",
        "    b.files = filedialog.askopenfilename(multiple=True) # List of selected files will be set button's file attribute.\n",
        "    print(b.files) # Print the list of files selected.\n",
        "    \n",
        "#-----------------------------------------\n",
        "# Remove \"__label__\" from FastText Labels\n",
        "#-----------------------------------------\n",
        "def remove_label(l,prefix)-> str:\n",
        "    if l.startswith(prefix):\n",
        "        return l[len(prefix):]\n",
        "    else:\n",
        "        return l[:]\n",
        "\n",
        "#---------------------------------------------\n",
        "# Sorts a dictionary by value. Returns a list.\n",
        "#---------------------------------------------\n",
        "def sort_tags(x):\n",
        "    if len(x)>0:\n",
        "        s = sorted(x.items(), key = lambda y:(y[1], y[0]), reverse = True)\n",
        "    else:\n",
        "        s = []\n",
        "    return s\n",
        "\n",
        "#---------------------------------------------\n",
        "# Top 5 values \n",
        "#---------------------------------------------\n",
        "def top_tags(x):\n",
        "    s = []\n",
        "    i = 0\n",
        "    if len(x)>0:\n",
        "        while ((i<len(x)) and (i<5)):\n",
        "            s = s + [x[i][0]]\n",
        "            i += 1\n",
        "    else:\n",
        "        s = []\n",
        "    \n",
        "    return s\n",
        "\n",
        "print('Functions have been defined')\n"
      ],
      "execution_count": 16,
      "outputs": [
        {
          "output_type": "stream",
          "name": "stdout",
          "text": [
            "Functions have been defined\n"
          ]
        }
      ]
    },
    {
      "cell_type": "code",
      "metadata": {
        "colab": {
          "base_uri": "https://localhost:8080/",
          "height": 317
        },
        "id": "KudYWqZnk6kI",
        "outputId": "3a4c4a06-6c79-4fbb-e2dc-f1ae77b8992c"
      },
      "source": [
        "#--------------------------------\n",
        "# Reading data\n",
        "#--------------------------------\n",
        "\n",
        "file2open = \"/content/corpus10k.csv\"\n",
        "\n",
        "print('Reading...')\n",
        "posts = pd.read_csv(file2open, usecols=['Id', 'Tags', 'Text'])\n",
        "\n",
        "# Number of records read\n",
        "display(posts.shape)\n",
        "display(posts.head())\n",
        "        \n",
        "# counting nulls per column\n",
        "display(posts.isnull().sum())\n"
      ],
      "execution_count": 17,
      "outputs": [
        {
          "output_type": "stream",
          "name": "stdout",
          "text": [
            "Reading...\n"
          ]
        },
        {
          "output_type": "display_data",
          "data": {
            "text/plain": [
              "(11146, 3)"
            ]
          },
          "metadata": {}
        },
        {
          "output_type": "display_data",
          "data": {
            "text/html": [
              "<div>\n",
              "<style scoped>\n",
              "    .dataframe tbody tr th:only-of-type {\n",
              "        vertical-align: middle;\n",
              "    }\n",
              "\n",
              "    .dataframe tbody tr th {\n",
              "        vertical-align: top;\n",
              "    }\n",
              "\n",
              "    .dataframe thead th {\n",
              "        text-align: right;\n",
              "    }\n",
              "</style>\n",
              "<table border=\"1\" class=\"dataframe\">\n",
              "  <thead>\n",
              "    <tr style=\"text-align: right;\">\n",
              "      <th></th>\n",
              "      <th>Id</th>\n",
              "      <th>Tags</th>\n",
              "      <th>Text</th>\n",
              "    </tr>\n",
              "  </thead>\n",
              "  <tbody>\n",
              "    <tr>\n",
              "      <th>0</th>\n",
              "      <td>4</td>\n",
              "      <td>['c#', 'floating-point', 'type-conversion', 'd...</td>\n",
              "      <td>change error vb use work 5000 track try contro...</td>\n",
              "    </tr>\n",
              "    <tr>\n",
              "      <th>1</th>\n",
              "      <td>6</td>\n",
              "      <td>['html', 'css', 'internet-explorer-7']</td>\n",
              "      <td>collapse miss explorer 0 children specificatio...</td>\n",
              "    </tr>\n",
              "    <tr>\n",
              "      <th>2</th>\n",
              "      <td>9</td>\n",
              "      <td>['c#', '.net', 'datetime']</td>\n",
              "      <td>someone datetime represent base age calculate ...</td>\n",
              "    </tr>\n",
              "    <tr>\n",
              "      <th>3</th>\n",
              "      <td>11</td>\n",
              "      <td>['c#', 'datetime', 'time', 'datediff', 'relati...</td>\n",
              "      <td>display datetime days 2 time month 3 specific ...</td>\n",
              "    </tr>\n",
              "    <tr>\n",
              "      <th>4</th>\n",
              "      <td>13</td>\n",
              "      <td>['html', 'browser', 'timezone', 'user-agent', ...</td>\n",
              "      <td>timezone http part agent determine user string...</td>\n",
              "    </tr>\n",
              "  </tbody>\n",
              "</table>\n",
              "</div>"
            ],
            "text/plain": [
              "   Id  ...                                               Text\n",
              "0   4  ...  change error vb use work 5000 track try contro...\n",
              "1   6  ...  collapse miss explorer 0 children specificatio...\n",
              "2   9  ...  someone datetime represent base age calculate ...\n",
              "3  11  ...  display datetime days 2 time month 3 specific ...\n",
              "4  13  ...  timezone http part agent determine user string...\n",
              "\n",
              "[5 rows x 3 columns]"
            ]
          },
          "metadata": {}
        },
        {
          "output_type": "display_data",
          "data": {
            "text/plain": [
              "Id      0\n",
              "Tags    0\n",
              "Text    0\n",
              "dtype: int64"
            ]
          },
          "metadata": {}
        }
      ]
    },
    {
      "cell_type": "code",
      "metadata": {
        "colab": {
          "base_uri": "https://localhost:8080/",
          "height": 73
        },
        "id": "oNhn_I3llHa8",
        "outputId": "3c6787f6-3b9e-4e0f-81e0-2fc0e31f479c"
      },
      "source": [
        "#----------------------------------------------------------------\n",
        "# Checking if Tags have been read as a single string or a series\n",
        "#-----------------------------------------------------------------\n",
        "if isinstance(posts['Tags'].iloc[0],str): # verifies if 'Tags' is of type \"string\"\n",
        "    display(posts['Tags'].iloc[0])\n",
        "    posts['Tags'] = posts['Tags'].apply(lambda tag: ast.literal_eval(tag))\n",
        "    display(posts['Tags'].iloc[0])\n",
        "\n",
        "print('Ready')"
      ],
      "execution_count": 18,
      "outputs": [
        {
          "output_type": "display_data",
          "data": {
            "application/vnd.google.colaboratory.intrinsic+json": {
              "type": "string"
            },
            "text/plain": [
              "\"['c#', 'floating-point', 'type-conversion', 'double', 'decimal']\""
            ]
          },
          "metadata": {}
        },
        {
          "output_type": "display_data",
          "data": {
            "text/plain": [
              "['c#', 'floating-point', 'type-conversion', 'double', 'decimal']"
            ]
          },
          "metadata": {}
        },
        {
          "output_type": "stream",
          "name": "stdout",
          "text": [
            "Ready\n"
          ]
        }
      ]
    },
    {
      "cell_type": "code",
      "metadata": {
        "colab": {
          "base_uri": "https://localhost:8080/"
        },
        "id": "tqI9vHgTlOVI",
        "outputId": "45a46806-2996-4b86-b828-4a083f570a44"
      },
      "source": [
        "\n",
        "\n",
        "#------------------------------------------------------\n",
        "# Flatten the \"Tags\" columns into a Series and then \n",
        "# count the number of occurrences per item, putting\n",
        "# the results into a dataframe\n",
        "#------------------------------------------------------\n",
        "tag_series = pd.Series([item for sublist in posts['Tags'] for item in sublist])\n",
        "tag_df = tag_series.groupby(tag_series).size().rename_axis('Tags').reset_index(name='Nº of occurrences')\n",
        "tag_df = tag_df.sort_values(by=['Nº of occurrences'], ascending=False)\n",
        "tag_df.head(20)\n",
        "\n",
        "# 2\n",
        "# Nº of Tags that appear more than 100 times across all messages\n",
        "\n",
        "series = tag_df['Nº of occurrences'].apply(lambda x: True if x > 10 else False)\n",
        "counting = len(series[series == True].index)\n",
        "\n",
        "print('Nº of Tags that appear more than 10 times across all messages:', counting)\n"
      ],
      "execution_count": 19,
      "outputs": [
        {
          "output_type": "stream",
          "name": "stdout",
          "text": [
            "Nº of Tags that appear more than 10 times across all messages: 454\n"
          ]
        }
      ]
    },
    {
      "cell_type": "code",
      "metadata": {
        "colab": {
          "base_uri": "https://localhost:8080/",
          "height": 871
        },
        "id": "gWXyYyARlVhd",
        "outputId": "7d618ead-e2d3-48b2-a54d-0a61fde4ec87"
      },
      "source": [
        "#-----------------------------------------\n",
        "# Top 100 tags\n",
        "#-----------------------------------------\n",
        "top_tags = tag_df[['Tags', 'Nº of occurrences']].head(100)\n",
        "display(top_tags)\n",
        "\n",
        "#--------------------------\n",
        "# y = list of Tags list\n",
        "#--------------------------\n",
        "posts['Tags'] = posts['Tags'].apply(lambda tags: most_used_tags(tags, top_tags))\n",
        "posts = posts.loc[posts['Tags'].str.len() > 0]\n",
        "y = posts['Tags']\n",
        "print('Ready - Nº of chosen tags', len(y))\n",
        "\n",
        "#--------------------\n",
        "# Display results\n",
        "#--------------------\n",
        "display(posts.head()), display(y)\n"
      ],
      "execution_count": 20,
      "outputs": [
        {
          "output_type": "display_data",
          "data": {
            "text/html": [
              "<div>\n",
              "<style scoped>\n",
              "    .dataframe tbody tr th:only-of-type {\n",
              "        vertical-align: middle;\n",
              "    }\n",
              "\n",
              "    .dataframe tbody tr th {\n",
              "        vertical-align: top;\n",
              "    }\n",
              "\n",
              "    .dataframe thead th {\n",
              "        text-align: right;\n",
              "    }\n",
              "</style>\n",
              "<table border=\"1\" class=\"dataframe\">\n",
              "  <thead>\n",
              "    <tr style=\"text-align: right;\">\n",
              "      <th></th>\n",
              "      <th>Tags</th>\n",
              "      <th>Nº of occurrences</th>\n",
              "    </tr>\n",
              "  </thead>\n",
              "  <tbody>\n",
              "    <tr>\n",
              "      <th>407</th>\n",
              "      <td>c#</td>\n",
              "      <td>1370</td>\n",
              "    </tr>\n",
              "    <tr>\n",
              "      <th>2</th>\n",
              "      <td>.net</td>\n",
              "      <td>1237</td>\n",
              "    </tr>\n",
              "    <tr>\n",
              "      <th>1777</th>\n",
              "      <td>java</td>\n",
              "      <td>807</td>\n",
              "    </tr>\n",
              "    <tr>\n",
              "      <th>195</th>\n",
              "      <td>asp.net</td>\n",
              "      <td>693</td>\n",
              "    </tr>\n",
              "    <tr>\n",
              "      <th>410</th>\n",
              "      <td>c++</td>\n",
              "      <td>527</td>\n",
              "    </tr>\n",
              "    <tr>\n",
              "      <th>...</th>\n",
              "      <td>...</td>\n",
              "      <td>...</td>\n",
              "    </tr>\n",
              "    <tr>\n",
              "      <th>3760</th>\n",
              "      <td>vba</td>\n",
              "      <td>50</td>\n",
              "    </tr>\n",
              "    <tr>\n",
              "      <th>839</th>\n",
              "      <td>date</td>\n",
              "      <td>49</td>\n",
              "    </tr>\n",
              "    <tr>\n",
              "      <th>1639</th>\n",
              "      <td>image</td>\n",
              "      <td>49</td>\n",
              "    </tr>\n",
              "    <tr>\n",
              "      <th>811</th>\n",
              "      <td>database-design</td>\n",
              "      <td>49</td>\n",
              "    </tr>\n",
              "    <tr>\n",
              "      <th>2456</th>\n",
              "      <td>orm</td>\n",
              "      <td>49</td>\n",
              "    </tr>\n",
              "  </tbody>\n",
              "</table>\n",
              "<p>100 rows × 2 columns</p>\n",
              "</div>"
            ],
            "text/plain": [
              "                 Tags  Nº of occurrences\n",
              "407                c#               1370\n",
              "2                .net               1237\n",
              "1777             java                807\n",
              "195           asp.net                693\n",
              "410               c++                527\n",
              "...               ...                ...\n",
              "3760              vba                 50\n",
              "839              date                 49\n",
              "1639            image                 49\n",
              "811   database-design                 49\n",
              "2456              orm                 49\n",
              "\n",
              "[100 rows x 2 columns]"
            ]
          },
          "metadata": {}
        },
        {
          "output_type": "stream",
          "name": "stdout",
          "text": [
            "Ready - Nº of chosen tags 9591\n"
          ]
        },
        {
          "output_type": "display_data",
          "data": {
            "text/html": [
              "<div>\n",
              "<style scoped>\n",
              "    .dataframe tbody tr th:only-of-type {\n",
              "        vertical-align: middle;\n",
              "    }\n",
              "\n",
              "    .dataframe tbody tr th {\n",
              "        vertical-align: top;\n",
              "    }\n",
              "\n",
              "    .dataframe thead th {\n",
              "        text-align: right;\n",
              "    }\n",
              "</style>\n",
              "<table border=\"1\" class=\"dataframe\">\n",
              "  <thead>\n",
              "    <tr style=\"text-align: right;\">\n",
              "      <th></th>\n",
              "      <th>Id</th>\n",
              "      <th>Tags</th>\n",
              "      <th>Text</th>\n",
              "    </tr>\n",
              "  </thead>\n",
              "  <tbody>\n",
              "    <tr>\n",
              "      <th>0</th>\n",
              "      <td>4</td>\n",
              "      <td>[c#]</td>\n",
              "      <td>change error vb use work 5000 track try contro...</td>\n",
              "    </tr>\n",
              "    <tr>\n",
              "      <th>1</th>\n",
              "      <td>6</td>\n",
              "      <td>[html, css]</td>\n",
              "      <td>collapse miss explorer 0 children specificatio...</td>\n",
              "    </tr>\n",
              "    <tr>\n",
              "      <th>2</th>\n",
              "      <td>9</td>\n",
              "      <td>[c#, .net]</td>\n",
              "      <td>someone datetime represent base age calculate ...</td>\n",
              "    </tr>\n",
              "    <tr>\n",
              "      <th>3</th>\n",
              "      <td>11</td>\n",
              "      <td>[c#]</td>\n",
              "      <td>display datetime days 2 time month 3 specific ...</td>\n",
              "    </tr>\n",
              "    <tr>\n",
              "      <th>4</th>\n",
              "      <td>13</td>\n",
              "      <td>[html, browser]</td>\n",
              "      <td>timezone http part agent determine user string...</td>\n",
              "    </tr>\n",
              "  </tbody>\n",
              "</table>\n",
              "</div>"
            ],
            "text/plain": [
              "   Id             Tags                                               Text\n",
              "0   4             [c#]  change error vb use work 5000 track try contro...\n",
              "1   6      [html, css]  collapse miss explorer 0 children specificatio...\n",
              "2   9       [c#, .net]  someone datetime represent base age calculate ...\n",
              "3  11             [c#]  display datetime days 2 time month 3 specific ...\n",
              "4  13  [html, browser]  timezone http part agent determine user string..."
            ]
          },
          "metadata": {}
        },
        {
          "output_type": "display_data",
          "data": {
            "text/plain": [
              "0                               [c#]\n",
              "1                        [html, css]\n",
              "2                         [c#, .net]\n",
              "3                               [c#]\n",
              "4                    [html, browser]\n",
              "                    ...             \n",
              "11139          [c++, multithreading]\n",
              "11140                       [vb.net]\n",
              "11141    [.net, asp.net, javascript]\n",
              "11142              [javascript, oop]\n",
              "11145                     [security]\n",
              "Name: Tags, Length: 9591, dtype: object"
            ]
          },
          "metadata": {}
        },
        {
          "output_type": "execute_result",
          "data": {
            "text/plain": [
              "(None, None)"
            ]
          },
          "metadata": {},
          "execution_count": 20
        }
      ]
    },
    {
      "cell_type": "code",
      "metadata": {
        "colab": {
          "base_uri": "https://localhost:8080/"
        },
        "id": "6QMkrMmkliQ2",
        "outputId": "c6ee5e36-e6ec-46f4-b2e9-531a70f398bf"
      },
      "source": [
        "#------------------------------------\n",
        "# Apply MultiLabelBinarizer to Tags\n",
        "#------------------------------------\n",
        "mlb = MultiLabelBinarizer()\n",
        "y = mlb.fit_transform(posts['Tags'])\n",
        "y[0:10,0:10]\n"
      ],
      "execution_count": 21,
      "outputs": [
        {
          "output_type": "execute_result",
          "data": {
            "text/plain": [
              "array([[0, 0, 0, 0, 0, 0, 0, 0, 0, 0],\n",
              "       [0, 0, 0, 0, 0, 0, 0, 0, 0, 0],\n",
              "       [1, 0, 0, 0, 0, 0, 0, 0, 0, 0],\n",
              "       [0, 0, 0, 0, 0, 0, 0, 0, 0, 0],\n",
              "       [0, 0, 0, 0, 0, 0, 0, 0, 0, 0],\n",
              "       [1, 0, 0, 0, 0, 0, 0, 0, 0, 0],\n",
              "       [0, 0, 1, 0, 0, 0, 0, 0, 0, 0],\n",
              "       [0, 0, 0, 0, 0, 0, 0, 0, 0, 0],\n",
              "       [0, 0, 0, 0, 0, 1, 0, 0, 0, 0],\n",
              "       [0, 0, 0, 0, 0, 0, 0, 0, 0, 0]])"
            ]
          },
          "metadata": {},
          "execution_count": 21
        }
      ]
    },
    {
      "cell_type": "code",
      "metadata": {
        "colab": {
          "base_uri": "https://localhost:8080/"
        },
        "id": "acbx3a0SllJA",
        "outputId": "96a4cbcb-24de-4283-a3a0-70860e00ccf1"
      },
      "source": [
        "#------------\n",
        "# TD-IDF \n",
        "#------------\n",
        "tfidf = TfidfVectorizer(analyzer=\"word\", max_features=1000, ngram_range=(1,1))\n",
        "X = tfidf.fit_transform(posts['Text'])\n",
        "\n",
        "print('Ready')\n"
      ],
      "execution_count": 22,
      "outputs": [
        {
          "output_type": "stream",
          "name": "stdout",
          "text": [
            "Ready\n"
          ]
        }
      ]
    },
    {
      "cell_type": "code",
      "metadata": {
        "colab": {
          "base_uri": "https://localhost:8080/"
        },
        "id": "dMxz7hJDltlj",
        "outputId": "ed96dcf2-2092-42f7-eda6-2ef66accfc0e"
      },
      "source": [
        "#------------------------------\n",
        "# Split into train and test\n",
        "#------------------------------\n",
        "X_train, X_test, y_train, y_test = train_test_split(X, y, test_size=0.2, random_state=0)\n",
        "X_train.shape,  X_test.shape,  y_train.shape, y_test.shape\n",
        "# "
      ],
      "execution_count": 23,
      "outputs": [
        {
          "output_type": "execute_result",
          "data": {
            "text/plain": [
              "((7672, 1000), (1919, 1000), (7672, 100), (1919, 100))"
            ]
          },
          "metadata": {},
          "execution_count": 23
        }
      ]
    },
    {
      "cell_type": "code",
      "metadata": {
        "colab": {
          "base_uri": "https://localhost:8080/",
          "height": 709
        },
        "id": "ZxFVDldDl_Fj",
        "outputId": "2bf42de3-a5ad-456e-e660-34fe9b2184c7"
      },
      "source": [
        "#-------------------------------------------------------\n",
        "# Preparation of tags for fasttext \n",
        "# The string \"__label__\" is attached to each tag to create a new column named 'Labels'.\n",
        "# Columns 'Labels' and 'Text' are then written to an external txt file for fasttext analysis (in OS mode)\n",
        "#-------------------------------------------------------\n",
        "train, test = train_test_split(posts, test_size=0.2)\n",
        "\n",
        "train['Labels'] = train['Tags'].apply(lambda x: labels(x))\n",
        "test['Labels'] = test['Tags'].apply(lambda x: labels(x))\n",
        "\n",
        "train = train.dropna()\n",
        "test = test.dropna()\n",
        "\n",
        "display(train[['Tags', 'Labels', 'Text']].head(10))\n",
        "display(test[['Tags', 'Labels', 'Text']].head(10))\n"
      ],
      "execution_count": 24,
      "outputs": [
        {
          "output_type": "display_data",
          "data": {
            "text/html": [
              "<div>\n",
              "<style scoped>\n",
              "    .dataframe tbody tr th:only-of-type {\n",
              "        vertical-align: middle;\n",
              "    }\n",
              "\n",
              "    .dataframe tbody tr th {\n",
              "        vertical-align: top;\n",
              "    }\n",
              "\n",
              "    .dataframe thead th {\n",
              "        text-align: right;\n",
              "    }\n",
              "</style>\n",
              "<table border=\"1\" class=\"dataframe\">\n",
              "  <thead>\n",
              "    <tr style=\"text-align: right;\">\n",
              "      <th></th>\n",
              "      <th>Tags</th>\n",
              "      <th>Labels</th>\n",
              "      <th>Text</th>\n",
              "    </tr>\n",
              "  </thead>\n",
              "  <tbody>\n",
              "    <tr>\n",
              "      <th>60</th>\n",
              "      <td>[java, generics]</td>\n",
              "      <td>__label__java __label__generics</td>\n",
              "      <td>cast check information getmylist gt object cas...</td>\n",
              "    </tr>\n",
              "    <tr>\n",
              "      <th>11078</th>\n",
              "      <td>[ruby]</td>\n",
              "      <td>__label__ruby</td>\n",
              "      <td>error saw modify say classtwo work delete_all ...</td>\n",
              "    </tr>\n",
              "    <tr>\n",
              "      <th>7529</th>\n",
              "      <td>[c#, .net]</td>\n",
              "      <td>__label__c# __label__.net</td>\n",
              "      <td>responsestream ipaddress ip respond great send...</td>\n",
              "    </tr>\n",
              "    <tr>\n",
              "      <th>1700</th>\n",
              "      <td>[algorithm]</td>\n",
              "      <td>__label__algorithm</td>\n",
              "      <td>card display speed run render fast game logic ...</td>\n",
              "    </tr>\n",
              "    <tr>\n",
              "      <th>6699</th>\n",
              "      <td>[database, database-design]</td>\n",
              "      <td>__label__database __label__database-design</td>\n",
              "      <td>insist argue efficiency even table outweigh fl...</td>\n",
              "    </tr>\n",
              "    <tr>\n",
              "      <th>3573</th>\n",
              "      <td>[c#, javascript, web-services]</td>\n",
              "      <td>__label__c# __label__javascript __label__web-...</td>\n",
              "      <td>change use 1 old strange long deprecate htc co...</td>\n",
              "    </tr>\n",
              "    <tr>\n",
              "      <th>3335</th>\n",
              "      <td>[sql-server, ruby-on-rails, ruby, sharepoint]</td>\n",
              "      <td>__label__sql-server __label__ruby-on-rails __...</td>\n",
              "      <td>various display webui even rail sharepoint dep...</td>\n",
              "    </tr>\n",
              "    <tr>\n",
              "      <th>10661</th>\n",
              "      <td>[c#, .net]</td>\n",
              "      <td>__label__c# __label__.net</td>\n",
              "      <td>always reason work seem time method applicatio...</td>\n",
              "    </tr>\n",
              "    <tr>\n",
              "      <th>7916</th>\n",
              "      <td>[ruby, exception]</td>\n",
              "      <td>__label__ruby __label__exception</td>\n",
              "      <td>get http seem look nameerror aws implicit pres...</td>\n",
              "    </tr>\n",
              "    <tr>\n",
              "      <th>7502</th>\n",
              "      <td>[php]</td>\n",
              "      <td>__label__php</td>\n",
              "      <td>create usually helper structure build differen...</td>\n",
              "    </tr>\n",
              "  </tbody>\n",
              "</table>\n",
              "</div>"
            ],
            "text/plain": [
              "                                                Tags  ...                                               Text\n",
              "60                                  [java, generics]  ...  cast check information getmylist gt object cas...\n",
              "11078                                         [ruby]  ...  error saw modify say classtwo work delete_all ...\n",
              "7529                                      [c#, .net]  ...  responsestream ipaddress ip respond great send...\n",
              "1700                                     [algorithm]  ...  card display speed run render fast game logic ...\n",
              "6699                     [database, database-design]  ...  insist argue efficiency even table outweigh fl...\n",
              "3573                  [c#, javascript, web-services]  ...  change use 1 old strange long deprecate htc co...\n",
              "3335   [sql-server, ruby-on-rails, ruby, sharepoint]  ...  various display webui even rail sharepoint dep...\n",
              "10661                                     [c#, .net]  ...  always reason work seem time method applicatio...\n",
              "7916                               [ruby, exception]  ...  get http seem look nameerror aws implicit pres...\n",
              "7502                                           [php]  ...  create usually helper structure build differen...\n",
              "\n",
              "[10 rows x 3 columns]"
            ]
          },
          "metadata": {}
        },
        {
          "output_type": "display_data",
          "data": {
            "text/html": [
              "<div>\n",
              "<style scoped>\n",
              "    .dataframe tbody tr th:only-of-type {\n",
              "        vertical-align: middle;\n",
              "    }\n",
              "\n",
              "    .dataframe tbody tr th {\n",
              "        vertical-align: top;\n",
              "    }\n",
              "\n",
              "    .dataframe thead th {\n",
              "        text-align: right;\n",
              "    }\n",
              "</style>\n",
              "<table border=\"1\" class=\"dataframe\">\n",
              "  <thead>\n",
              "    <tr style=\"text-align: right;\">\n",
              "      <th></th>\n",
              "      <th>Tags</th>\n",
              "      <th>Labels</th>\n",
              "      <th>Text</th>\n",
              "    </tr>\n",
              "  </thead>\n",
              "  <tbody>\n",
              "    <tr>\n",
              "      <th>6097</th>\n",
              "      <td>[asp.net, security, email]</td>\n",
              "      <td>__label__asp.net __label__security __label__e...</td>\n",
              "      <td>concern http 10 aspx email php use archive mai...</td>\n",
              "    </tr>\n",
              "    <tr>\n",
              "      <th>6266</th>\n",
              "      <td>[svn]</td>\n",
              "      <td>__label__svn</td>\n",
              "      <td>date root otherwise however scan tag 721 2008 ...</td>\n",
              "    </tr>\n",
              "    <tr>\n",
              "      <th>9527</th>\n",
              "      <td>[sql-server]</td>\n",
              "      <td>__label__sql-server</td>\n",
              "      <td>change register sql register port however see ...</td>\n",
              "    </tr>\n",
              "    <tr>\n",
              "      <th>9762</th>\n",
              "      <td>[asp.net]</td>\n",
              "      <td>__label__asp.net</td>\n",
              "      <td>error suggestion get aspx file mappings 0 mess...</td>\n",
              "    </tr>\n",
              "    <tr>\n",
              "      <th>5146</th>\n",
              "      <td>[c#]</td>\n",
              "      <td>__label__c#</td>\n",
              "      <td>operator get automatically hold throw explain ...</td>\n",
              "    </tr>\n",
              "    <tr>\n",
              "      <th>3264</th>\n",
              "      <td>[php, iis]</td>\n",
              "      <td>__label__php __label__iis</td>\n",
              "      <td>urls spirit http windows p work team use php h...</td>\n",
              "    </tr>\n",
              "    <tr>\n",
              "      <th>613</th>\n",
              "      <td>[windows, visual-studio]</td>\n",
              "      <td>__label__windows __label__visual-studio</td>\n",
              "      <td>graphical view file item button let tfs items ...</td>\n",
              "    </tr>\n",
              "    <tr>\n",
              "      <th>10005</th>\n",
              "      <td>[c#, .net]</td>\n",
              "      <td>__label__c# __label__.net</td>\n",
              "      <td>maintain information read assemblies tedious f...</td>\n",
              "    </tr>\n",
              "    <tr>\n",
              "      <th>4407</th>\n",
              "      <td>[python]</td>\n",
              "      <td>__label__python</td>\n",
              "      <td>split variable say dictionary sql function 0 f...</td>\n",
              "    </tr>\n",
              "    <tr>\n",
              "      <th>1771</th>\n",
              "      <td>[sql, debugging]</td>\n",
              "      <td>__label__sql __label__debugging</td>\n",
              "      <td>debug tool sql recommend look debugger standal...</td>\n",
              "    </tr>\n",
              "  </tbody>\n",
              "</table>\n",
              "</div>"
            ],
            "text/plain": [
              "                             Tags  ...                                               Text\n",
              "6097   [asp.net, security, email]  ...  concern http 10 aspx email php use archive mai...\n",
              "6266                        [svn]  ...  date root otherwise however scan tag 721 2008 ...\n",
              "9527                 [sql-server]  ...  change register sql register port however see ...\n",
              "9762                    [asp.net]  ...  error suggestion get aspx file mappings 0 mess...\n",
              "5146                         [c#]  ...  operator get automatically hold throw explain ...\n",
              "3264                   [php, iis]  ...  urls spirit http windows p work team use php h...\n",
              "613      [windows, visual-studio]  ...  graphical view file item button let tfs items ...\n",
              "10005                  [c#, .net]  ...  maintain information read assemblies tedious f...\n",
              "4407                     [python]  ...  split variable say dictionary sql function 0 f...\n",
              "1771             [sql, debugging]  ...  debug tool sql recommend look debugger standal...\n",
              "\n",
              "[10 rows x 3 columns]"
            ]
          },
          "metadata": {}
        }
      ]
    },
    {
      "cell_type": "code",
      "metadata": {
        "colab": {
          "base_uri": "https://localhost:8080/"
        },
        "id": "dz8DfqT4mMwY",
        "outputId": "8efbeca8-0952-4c77-c730-dd228611e89d"
      },
      "source": [
        "#-------------------------------------------------------\n",
        "# It writes Labels and Text in FastText format to train.txt and test.txt files\n",
        "# Those files will be the input for FastText routines\n",
        "#-------------------------------------------------------\n",
        "\n",
        "train_file = os.path.splitext(file2open)[0] + '.train'\n",
        "test_file  = os.path.splitext(file2open)[0] + '.test'\n",
        "\n",
        "train.to_csv(train_file, \n",
        "             header=None, \n",
        "             index=None, \n",
        "             mode='a', \n",
        "             encoding='utf-8', \n",
        "             columns=['Labels', 'Text'],\n",
        "             sep=' ',\n",
        "             escapechar=' ',\n",
        "             quoting=csv.QUOTE_NONE,\n",
        "             quotechar=' '\n",
        "            )\n",
        "\n",
        "print('Ready ', train_file)\n",
        "\n",
        "test.to_csv(test_file,\n",
        "            header=None, \n",
        "            index=None, \n",
        "            mode='a', \n",
        "            encoding='utf-8', \n",
        "            columns=['Labels', 'Text'],\n",
        "            sep=' ',\n",
        "            escapechar=' ',\n",
        "            quoting=csv.QUOTE_NONE,\n",
        "            quotechar=' '\n",
        "           )\n",
        "\n",
        "print('Ready ', test_file)"
      ],
      "execution_count": 25,
      "outputs": [
        {
          "output_type": "stream",
          "name": "stdout",
          "text": [
            "Ready  /content/corpus10k.train\n",
            "Ready  /content/corpus10k.test\n"
          ]
        }
      ]
    },
    {
      "cell_type": "code",
      "metadata": {
        "colab": {
          "base_uri": "https://localhost:8080/"
        },
        "id": "EHXhC-iamWmS",
        "outputId": "abce0e02-a123-4618-e06c-19be8bd02f89"
      },
      "source": [
        "#-------------------------------------------------------\n",
        "# Training the FastText model\n",
        "#-------------------------------------------------------\n",
        "\n",
        "print('FastText training Begin...', datetime.datetime.now())\n",
        "\n",
        "# Command for training \n",
        "\n",
        "filename = os.path.splitext(file2open)[0]\n",
        "\n",
        "input_file = filename + '.train'\n",
        "\n",
        "output_file = filename\n",
        "\n",
        "result_file = filename + \".result\"\n",
        "\n",
        "batcmd = './fasttext supervised -input '+ input_file + ' -output ' + \\\n",
        "                                          output_file + ' -dim 10 -lr 1 -wordNgrams 1 -minCount 1 -bucket 10000000 -epoch 25' + \\\n",
        "                                          '> ' + result_file\n",
        "\n",
        "result = subprocess.check_output(batcmd, shell=True)\n",
        "\n",
        "print('FastText training End...', datetime.datetime.now())\n",
        "\n",
        "print('Ready')\n"
      ],
      "execution_count": 26,
      "outputs": [
        {
          "output_type": "stream",
          "name": "stdout",
          "text": [
            "FastText training Begin... 2021-10-03 16:17:05.913977\n",
            "FastText training End... 2021-10-03 16:17:08.419809\n",
            "Ready\n"
          ]
        }
      ]
    },
    {
      "cell_type": "code",
      "metadata": {
        "colab": {
          "base_uri": "https://localhost:8080/"
        },
        "id": "A3ev4x858opN",
        "outputId": "693be1ef-6b52-4dea-ea68-efce3bd07d3d"
      },
      "source": [
        "! ls -l /content/*.bin"
      ],
      "execution_count": 27,
      "outputs": [
        {
          "output_type": "stream",
          "name": "stdout",
          "text": [
            "-rw-r--r-- 1 root root 1618139 Oct  3 16:17 /content/corpus10k.bin\n"
          ]
        }
      ]
    },
    {
      "cell_type": "code",
      "metadata": {
        "colab": {
          "base_uri": "https://localhost:8080/"
        },
        "id": "RXpyyMNl2XuY",
        "outputId": "4fc30f5f-e514-490a-cf20-3ca5300bf046"
      },
      "source": [
        "#-------------------------------------------------------\n",
        "# Testing the fast text model\n",
        "#-------------------------------------------------------\n",
        "\n",
        "# Command for testing\n",
        "\n",
        "input_file = filename + '.bin'\n",
        "\n",
        "test_file  = filename + '.test'\n",
        "\n",
        "# batcmd = 'fasttext test '+ input_file + ' ' + output_file + ' 2>$null'\n",
        "\n",
        "batcmd = './fasttext test '+ input_file + ' ' + test_file \n",
        "\n",
        "print('fast text Begin...', datetime.datetime.now())\n",
        "\n",
        "result = subprocess.check_output(batcmd, shell=True)\n",
        "\n",
        "print('fast text End...', datetime.datetime.now())\n",
        "\n",
        "print(result.decode('utf-8'))\n"
      ],
      "execution_count": 28,
      "outputs": [
        {
          "output_type": "stream",
          "name": "stdout",
          "text": [
            "fast text Begin... 2021-10-03 16:18:13.767609\n",
            "fast text End... 2021-10-03 16:18:13.825881\n",
            "N\t1919\n",
            "P@1\t0.521\n",
            "R@1\t0.297\n",
            "\n"
          ]
        }
      ]
    },
    {
      "cell_type": "code",
      "metadata": {
        "colab": {
          "base_uri": "https://localhost:8080/"
        },
        "id": "5jxnHOlj26Kz",
        "outputId": "a25e997e-3146-4c8d-fb00-c9192de0c4d2"
      },
      "source": [
        "#-------------------------------------------------------\n",
        "# Predicting labels\n",
        "#-------------------------------------------------------\n",
        "\n",
        "# File where question is written\n",
        "question_file = open(\"question.txt\", \"w\")\n",
        "\n",
        "# File that contains the model\n",
        "input_file = filename + '.bin'\n",
        "\n",
        "# User is asked\n",
        "question = input(\"Please, enter your question:\\n\")\n",
        "\n",
        "# Question is cleaned and lemmatized\n",
        "question2 = clean_txt(question)\n",
        "\n",
        "# Question is written to a file\n",
        "n = question_file.write(question2)\n",
        "\n",
        "# Question file is closed\n",
        "question_file.close()\n",
        "\n",
        "# FastText string command is assembled\n",
        "batcmd = './fasttext predict '+ input_file + ' question.txt 5 1>labels.csv'\n",
        "\n",
        "# FastText commnd is executed. Output written to \"labels.csv\"\n",
        "result = subprocess.check_output(batcmd, shell=True)\n",
        "\n",
        "# labels are read and split into a list\n",
        "csv_reader = csv.reader(codecs.open('labels.csv', 'rU', 'utf-8'))\n",
        "\n",
        "lists_from_csv = []\n",
        "\n",
        "for row in csv_reader:\n",
        "    lists_from_csv.append(row)\n",
        "\n",
        "list_from_csv = list(tuple(remove_label(l,'__label__') for l in lists_from_csv[0][0].split()))\n",
        "\n",
        "print(list_from_csv)"
      ],
      "execution_count": 30,
      "outputs": [
        {
          "output_type": "stream",
          "name": "stdout",
          "text": [
            "Please, enter your question:\n",
            "I want to write a program in Python that sends a message from a smartphone to the screens of several computers running different operating systems like Windows, Unix, MacOs, etc. across a TCP/IP network.\n",
            "['networking', 'macos', 'unix', 'winapi', 'bash']\n"
          ]
        }
      ]
    }
  ]
}